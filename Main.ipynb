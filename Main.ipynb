{
 "cells": [
  {
   "cell_type": "code",
   "execution_count": 1,
   "metadata": {},
   "outputs": [],
   "source": [
    "import numpy as np\n",
    "\n",
    "import seaborn as sns\n",
    "from mimesis import Person\n",
    "from mimesis.providers.payment import Payment\n",
    "from mimesis.enums import Gender, CardType\n",
    "from data_requirements import *\n",
    "from matplotlib import pyplot as plt \n",
    "from data_transformation import *"
   ]
  },
  {
   "cell_type": "code",
   "execution_count": 2,
   "metadata": {},
   "outputs": [
    {
     "name": "stdout",
     "output_type": "stream",
     "text": [
      "[('0000000000000000', 'Dorotha Mcclain', '4137 9141 7776 3174', '01/23', 'F', '31032.994249370044')\n",
      " ('0000000000000001', 'Candra Dyer', '4443 9074 3915 0007', '11/24', 'F', '41046.58442914038')\n",
      " ('0000000000000002', 'Cyrus Knapp', '4009 6360 8377 8351', '04/25', 'M', '46049.40901059186')\n",
      " ...\n",
      " ('0000000000009997', 'Kandace Bernard', '4470 7865 0083 4285', '08/25', 'F', '10008.736986048307')\n",
      " ('0000000000009998', 'Delmar Vincent', '4952 4834 5348 6209', '01/22', 'M', '6004.631078314692')\n",
      " ('0000000000009999', 'Roselle Santiago', '4813 4435 4546 1577', '03/24', 'F', '23017.359356568228')]\n"
     ]
    }
   ],
   "source": [
    "class DataGenerator:\n",
    "    @staticmethod\n",
    "    def generate_personal_data(num_records, seed):\n",
    "        person = Person('en',seed=seed)\n",
    "        payment = Payment(seed=seed)\n",
    "\n",
    "        dtype = np.dtype([\n",
    "            ('id', np.unicode_, 16),\n",
    "            ('full_name', np.unicode_, 32),\n",
    "            ('credit_card_number', np.unicode_, 32),\n",
    "            ('credit_card_expiration_date', np.unicode_, 8),\n",
    "            ('gender', np.unicode_, 1),\n",
    "            ('loan',np.unicode_, 32)\n",
    "        ])\n",
    "        \n",
    "        \n",
    "        \n",
    "        np.random.seed(seed)\n",
    "        \n",
    "        rng = np.random.randint(0, 2, num_records)\n",
    "        loans = get_uniform_loans(1000,100000,1000)\n",
    "        records_npy = np.empty(num_records, dtype=dtype)\n",
    "        \n",
    "        for idx in range(num_records):\n",
    "            if rng[idx] == 0:\n",
    "                gender = Gender.MALE\n",
    "            else:    \n",
    "                gender = Gender.FEMALE\n",
    "            records_npy['id'][idx] = str('{:016d}'.format(idx))\n",
    "            records_npy['full_name'][idx] = person.full_name(gender=gender)\n",
    "            records_npy['credit_card_number'][idx] = payment.credit_card_number(card_type=CardType.VISA)\n",
    "            records_npy['credit_card_expiration_date'][idx] = payment.credit_card_expiration_date(minimum=20,maximum=25)\n",
    "            records_npy['gender'][idx] = 'M' if rng[idx] == 0 else 'F'\n",
    "            if idx < len(loans) - 1:\n",
    "                records_npy['loan'][idx] = loans[idx]\n",
    "            else:\n",
    "                records_npy['loan'][idx] = np.random.choice(loans)        \n",
    "        records_npy = records_npy[:num_records]\n",
    "        \n",
    "        number, same_nameId = uniform_rec_id(records_npy, rng)\n",
    "        name = get_name(records_npy['full_name'], same_nameId)\n",
    "        \n",
    "        for idx in same_nameId:\n",
    "            records_npy['full_name'][idx] = name    \n",
    "        return records_npy, name\n",
    "if __name__ == '__main__':\n",
    "    data, name = DataGenerator.generate_personal_data(10000,1)\n",
    "    print(data)"
   ]
  },
  {
   "cell_type": "markdown",
   "metadata": {},
   "source": [
    "## Data generation"
   ]
  },
  {
   "cell_type": "markdown",
   "metadata": {},
   "source": [
    "## Data data exploration"
   ]
  },
  {
   "cell_type": "code",
   "execution_count": 3,
   "metadata": {},
   "outputs": [
    {
     "data": {
      "text/plain": [
       "array([('0000000000000000', 'Luvenia Wiley', '4331 2601 8159 0839', '01/20', 'F', '89100.54008423086'),\n",
       "       ('0000000000000001', 'Dirk Heath', '4444 6131 8609 1399', '01/24', 'M', '3002.1631493278883'),\n",
       "       ('0000000000000002', 'Berry Blackwell', '4599 6030 8246 2813', '10/22', 'F', '99110.10862637371'),\n",
       "       ...,\n",
       "       ('0000000000049997', 'Oscar Barnes', '4417 0545 1120 1481', '01/22', 'M', '90100.72236567838'),\n",
       "       ('0000000000049998', 'Donovan Dorsey', '4889 9985 1750 2863', '08/24', 'M', '22023.39431006226'),\n",
       "       ('0000000000049999', 'Dan Middleton', '4965 9692 0665 7273', '12/20', 'F', '4004.6655962569407')],\n",
       "      dtype=[('id', '<U16'), ('full_name', '<U32'), ('credit_card_number', '<U32'), ('credit_card_expiration_date', '<U8'), ('gender', '<U1'), ('loan', '<U32')])"
      ]
     },
     "execution_count": 3,
     "metadata": {},
     "output_type": "execute_result"
    }
   ],
   "source": [
    "SEED = 7\n",
    "num_records = 50000\n",
    "data, name = DataGenerator.generate_personal_data(num_records,SEED)\n",
    "data"
   ]
  },
  {
   "cell_type": "markdown",
   "metadata": {},
   "source": [
    "## loan - a random floating point number uniformly distributed in the range between 1000 and 100000 and minimum step 1000"
   ]
  },
  {
   "cell_type": "code",
   "execution_count": 4,
   "metadata": {},
   "outputs": [
    {
     "data": {
      "text/plain": [
       "[Text(0, 0.5, 'Frequency'), Text(0.5, 0, 'Uniform ')]"
      ]
     },
     "execution_count": 4,
     "metadata": {},
     "output_type": "execute_result"
    },
    {
     "data": {
      "image/png": "[encoded data removed]",
      "text/plain": [
       "<Figure size 432x288 with 1 Axes>"
      ]
     },
     "metadata": {
      "needs_background": "light"
     },
     "output_type": "display_data"
    }
   ],
   "source": [
    "# to show you requirements\n",
    "loans = np.array([float(i) for i in data['loan']])\n",
    "ax = sns.distplot(loans,\n",
    "                  bins=1000,\n",
    "                  kde=False,\n",
    "                  color='skyblue',\n",
    "                  hist_kws={\"linewidth\": 15,'alpha':1})\n",
    "ax.set(xlabel='Uniform ', ylabel='Frequency')"
   ]
  },
  {
   "cell_type": "markdown",
   "metadata": {},
   "source": [
    "## There should be up to 12 records with the same full_name while the other data can be different. A particular number of such records should be uniformly distributed"
   ]
  },
  {
   "cell_type": "code",
   "execution_count": 5,
   "metadata": {},
   "outputs": [
    {
     "data": {
      "text/plain": [
       "[Text(0, 0.5, 'Frequency'),\n",
       " Text(0.5, 0, 'Number of records with the same full_name')]"
      ]
     },
     "execution_count": 5,
     "metadata": {},
     "output_type": "execute_result"
    },
    {
     "data": {
      "image/png": "[encoded data removed]",
      "text/plain": [
       "<Figure size 432x288 with 1 Axes>"
      ]
     },
     "metadata": {
      "needs_background": "light"
     },
     "output_type": "display_data"
    }
   ],
   "source": [
    "numbers_occurred = []\n",
    "for i in range(1,18):\n",
    "    data1, name = DataGenerator.generate_personal_data(100,i)\n",
    "    number = len([i for i in data1['full_name'] if i == name])\n",
    "    numbers_occurred.append(number)\n",
    "    \n",
    "ax = sns.distplot(numbers_occurred,\n",
    "                  bins=17,\n",
    "                  kde=False,\n",
    "                  color='skyblue',\n",
    "                  hist_kws={\"linewidth\": 15,'alpha':1})\n",
    "ax.set(xlabel=\"Number of records with the same full_name\", ylabel='Frequency')    "
   ]
  },
  {
   "cell_type": "markdown",
   "metadata": {},
   "source": [
    "## Save to  file "
   ]
  },
  {
   "cell_type": "code",
   "execution_count": 6,
   "metadata": {},
   "outputs": [],
   "source": [
    "data_path_in, id_file = data_save(data, SEED,\"\")\n",
    "data_path_out = \"MappedInputData_\" + id_file + \".csv\""
   ]
  },
  {
   "cell_type": "markdown",
   "metadata": {},
   "source": [
    "## Data extraction, transformation and validation"
   ]
  },
  {
   "cell_type": "code",
   "execution_count": 7,
   "metadata": {},
   "outputs": [],
   "source": [
    "# Read data from text\n",
    "dtypeFromFile = {'names': ('id',\n",
    "                           'full_name',\n",
    "                           'credit_card_number',\n",
    "                           'credit_card_expiration_date',\n",
    "                           'gender',\n",
    "                           'loan'),\n",
    "                 'formats':('|S16',\n",
    "                            '|S32',\n",
    "                            '|S32',\n",
    "                            '|S8',\n",
    "                            '|S1',\n",
    "                            '|S32')}\n",
    "                 \n",
    "dataFromFile = np.loadtxt(data_path_in, dtype=dtypeFromFile, delimiter=',')"
   ]
  },
  {
   "cell_type": "code",
   "execution_count": 8,
   "metadata": {},
   "outputs": [
    {
     "name": "stdout",
     "output_type": "stream",
     "text": [
      "Chase Marshall\n"
     ]
    },
    {
     "data": {
      "text/plain": [
       "[10]"
      ]
     },
     "execution_count": 8,
     "metadata": {},
     "output_type": "execute_result"
    }
   ],
   "source": [
    "# For 2 Stage I use part of data from 1 Stage\n",
    "records = records_array(dataFromFile, SEED)   \n",
    "print(records.get_name(10))\n",
    "records.get_id('Chase Marshall')"
   ]
  },
  {
   "cell_type": "code",
   "execution_count": 9,
   "metadata": {},
   "outputs": [
    {
     "data": {
      "text/plain": [
       "array([    0,     1,     2, ..., 49997, 49998, 49999])"
      ]
     },
     "execution_count": 9,
     "metadata": {},
     "output_type": "execute_result"
    }
   ],
   "source": [
    "records.data['user_id']"
   ]
  },
  {
   "cell_type": "code",
   "execution_count": 10,
   "metadata": {},
   "outputs": [
    {
     "data": {
      "text/plain": [
       "array([0, 1, 0, ..., 1, 1, 0], dtype=int16)"
      ]
     },
     "execution_count": 10,
     "metadata": {},
     "output_type": "execute_result"
    }
   ],
   "source": [
    "records.data['gender']"
   ]
  },
  {
   "cell_type": "code",
   "execution_count": 11,
   "metadata": {},
   "outputs": [
    {
     "data": {
      "text/plain": [
       "array([[2020,    1,   31],\n",
       "       [2024,    1,   31],\n",
       "       [2022,   10,   31],\n",
       "       ...,\n",
       "       [2022,    1,   31],\n",
       "       [2024,    8,   31],\n",
       "       [2020,   12,   31]], dtype=int16)"
      ]
     },
     "execution_count": 11,
     "metadata": {},
     "output_type": "execute_result"
    }
   ],
   "source": [
    "records.data['expiration_date']"
   ]
  },
  {
   "cell_type": "code",
   "execution_count": 12,
   "metadata": {},
   "outputs": [
    {
     "data": {
      "text/plain": [
       "array([[11012.46315187, 82090.68555835, 10011.63517138, ...,\n",
       "        95105.03172516, 78088.81966525,  4004.73932993],\n",
       "       [11012.46315187, 34043.58706395, 22025.66319073, ...,\n",
       "        72079.35665887, 20024.86413886, 77081.51151132],\n",
       "       [36045.2068162 , 78088.81966525, 66071.09073205, ...,\n",
       "        33039.33720038, 44054.6510783 , 58067.18803837],\n",
       "       ...,\n",
       "       [72079.35665887, 16021.8401458 , 37045.278996  , ...,\n",
       "        87097.3725392 , 66071.09073205, 62070.16778499],\n",
       "       [ 4004.73932993,  3002.16314933, 25030.96066948, ...,\n",
       "        33039.33720038, 60069.47933044, 22025.66319073],\n",
       "       [52062.85447702,  3002.16314933, 23028.67359269, ...,\n",
       "        11012.46315187, 91101.28301904,  3002.16314933]])"
      ]
     },
     "execution_count": 12,
     "metadata": {},
     "output_type": "execute_result"
    }
   ],
   "source": [
    "records.data['loan'] "
   ]
  },
  {
   "cell_type": "markdown",
   "metadata": {},
   "source": [
    "## Validation"
   ]
  },
  {
   "cell_type": "code",
   "execution_count": 13,
   "metadata": {},
   "outputs": [],
   "source": [
    "unique, index, count = np.unique(dataFromFile, \n",
    "                          return_index=True,\n",
    "                          return_counts=True, axis=0)"
   ]
  },
  {
   "cell_type": "code",
   "execution_count": 14,
   "metadata": {},
   "outputs": [],
   "source": [
    "invalid_records = unique[count > 10]"
   ]
  },
  {
   "cell_type": "code",
   "execution_count": 15,
   "metadata": {},
   "outputs": [],
   "source": [
    "invalid_user_list = np.array([records.get_name(i) for i in index[count > 10]])"
   ]
  },
  {
   "cell_type": "code",
   "execution_count": 16,
   "metadata": {},
   "outputs": [],
   "source": [
    "invalid_index = index[count > 10]"
   ]
  },
  {
   "cell_type": "code",
   "execution_count": 17,
   "metadata": {},
   "outputs": [],
   "source": [
    "for idx in invalid_index:\n",
    "    records.remouve_row(idx)"
   ]
  },
  {
   "cell_type": "code",
   "execution_count": 18,
   "metadata": {},
   "outputs": [
    {
     "data": {
      "text/plain": [
       "array([(    0, 0, [2020,    1,   31], [11012.46315187, 82090.68555835, 10011.63517138, 40050.49315993, 26031.58598496, 43053.90488111, 72079.35665887, 95105.03172516, 78088.81966525,  4004.73932993]),\n",
       "       (    1, 1, [2024,    1,   31], [11012.46315187, 34043.58706395, 22025.66319073, 98108.38660983, 95105.03172516, 40050.49315993, 61069.75009672, 72079.35665887, 20024.86413886, 77081.51151132]),\n",
       "       (    2, 0, [2022,   10,   31], [36045.2068162 , 78088.81966525, 66071.09073205, 52062.85447702, 11012.46315187, 39048.68635454, 73080.27190419, 33039.33720038, 44054.6510783 , 58067.18803837]),\n",
       "       ...,\n",
       "       (49997, 1, [2022,    1,   31], [72079.35665887, 16021.8401458 , 37045.278996  , 19024.35803841, 25030.96066948, 27031.67720383, 84092.81619157, 87097.3725392 , 66071.09073205, 62070.16778499]),\n",
       "       (49998, 1, [2024,    8,   31], [ 4004.73932993,  3002.16314933, 25030.96066948, 29034.70849542, 10011.63517138, 13019.51374347, 49061.09364297, 33039.33720038, 60069.47933044, 22025.66319073]),\n",
       "       (49999, 0, [2020,   12,   31], [52062.85447702,  3002.16314933, 23028.67359269, 28034.23024801, 80090.42248919, 29034.70849542, 31038.31861618, 11012.46315187, 91101.28301904,  3002.16314933])],\n",
       "      dtype=[('user_id', '<i4'), ('gender', '<i2'), ('expiration_date', '<i2', (3,)), ('loan', '<f8', (10,))])"
      ]
     },
     "execution_count": 18,
     "metadata": {},
     "output_type": "execute_result"
    }
   ],
   "source": [
    "records.data"
   ]
  },
  {
   "cell_type": "code",
   "execution_count": 19,
   "metadata": {},
   "outputs": [
    {
     "data": {
      "text/plain": [
       "array([[11012.46315187, 82090.68555835, 10011.63517138, ...,\n",
       "        95105.03172516, 78088.81966525,  4004.73932993],\n",
       "       [11012.46315187, 34043.58706395, 22025.66319073, ...,\n",
       "        72079.35665887, 20024.86413886, 77081.51151132],\n",
       "       [36045.2068162 , 78088.81966525, 66071.09073205, ...,\n",
       "        33039.33720038, 44054.6510783 , 58067.18803837],\n",
       "       ...,\n",
       "       [72079.35665887, 16021.8401458 , 37045.278996  , ...,\n",
       "        87097.3725392 , 66071.09073205, 62070.16778499],\n",
       "       [ 4004.73932993,  3002.16314933, 25030.96066948, ...,\n",
       "        33039.33720038, 60069.47933044, 22025.66319073],\n",
       "       [52062.85447702,  3002.16314933, 23028.67359269, ...,\n",
       "        11012.46315187, 91101.28301904,  3002.16314933]])"
      ]
     },
     "execution_count": 19,
     "metadata": {},
     "output_type": "execute_result"
    }
   ],
   "source": [
    "records.data['loan']"
   ]
  },
  {
   "cell_type": "code",
   "execution_count": 20,
   "metadata": {},
   "outputs": [
    {
     "data": {
      "text/plain": [
       "<data_transformation.records_array at 0x1ec9f537470>"
      ]
     },
     "execution_count": 20,
     "metadata": {},
     "output_type": "execute_result"
    }
   ],
   "source": [
    "loans_dict = get_loans(records)\n",
    "rewrite_loans(records, loans_dict)"
   ]
  },
  {
   "cell_type": "code",
   "execution_count": 21,
   "metadata": {},
   "outputs": [
    {
     "data": {
      "text/plain": [
       "array([(    0, 0, [2020,    1,   31], [63952387.41950694, 63530966.81564663, 64087671.91437761, 62852370.94051827, 63598006.8018615 , 65183891.6602595 , 65134595.54847924, 64085558.45355438, 66644302.56356726, 63158565.21689467]),\n",
       "       (    1, 1, [2024,    1,   31], [84336957.94451419, 86650529.487753  , 86301039.82316232, 87278087.23212501, 86017669.98593122, 84769407.23364604, 85168954.60078454, 86686516.12448783, 84988751.22737978, 86001767.48059218]),\n",
       "       (    2, 0, [2022,   10,   31], [88975261.65505362, 88777809.30961761, 89550930.77588935, 89949349.4392019 , 89926143.86001046, 88390692.69617292, 89217317.681822  , 89558906.1436581 , 91271778.56597061, 87583513.85354848]),\n",
       "       ...,\n",
       "       (49997, 1, [2022,    1,   31], [ 7866978.29378902,  8372569.14531297,  7577748.08396999,  8299514.98587508,  8486747.78108062,  8252492.77452137,  8156435.31249073,  8554741.29066491,  7843979.90211925,  7472588.10420491]),\n",
       "       (49998, 1, [2024,    8,   31], [14878080.37325052, 16273600.82741957, 14992261.89241285, 15794154.07457364, 14910233.08075136, 15465695.36126863, 15940232.9681915 , 15012289.23631852, 14963246.10972482, 14547761.65849614]),\n",
       "       (49999, 0, [2020,   12,   31], [38449359.47713596, 40113924.55871173, 38108930.59406469, 39772512.81846529, 39434229.99458152, 38783620.85759241, 40864888.12239434, 40253076.61629539, 39381138.2031402 , 39010894.60655586])],\n",
       "      dtype=[('user_id', '<i4'), ('gender', '<i2'), ('expiration_date', '<i2', (3,)), ('loan', '<f8', (10,))])"
      ]
     },
     "execution_count": 21,
     "metadata": {},
     "output_type": "execute_result"
    }
   ],
   "source": [
    "records.data"
   ]
  },
  {
   "cell_type": "code",
   "execution_count": 22,
   "metadata": {},
   "outputs": [],
   "source": [
    "np.savetxt(data_path_out, records.data, delimiter=',',fmt=('%16s', '%16s', '%32s', '%32s'),\n",
    "           header='user_id gender expiration_date loan')"
   ]
  },
  {
   "cell_type": "markdown",
   "metadata": {},
   "source": [
    "## Simulation and Analysis"
   ]
  },
  {
   "cell_type": "code",
   "execution_count": 23,
   "metadata": {},
   "outputs": [],
   "source": [
    "from data_calculation import *"
   ]
  },
  {
   "cell_type": "code",
   "execution_count": 24,
   "metadata": {},
   "outputs": [],
   "source": [
    "'''\n",
    "def get_all_matrix(records):\n",
    "    return np.array([get_loans_matrix(records, idx) for idx in records.data['user_id']])    \n",
    "get_all_matrix(records)\n",
    "'''\n",
    "# This task is unclear for me ! =( \n",
    "# But still some functions in data_calculation is usful\n",
    "# get_projection_number(expiration_date) -> projection_number\n",
    "# get_monthly_payment(records, idx, prog) \n",
    "# payment(prev, gender, payment_rate)\n",
    "# loan(curent_sum, prev, gender, payment_rate)\n",
    "\n",
    "# The result should be an array of loans with the size number of programs x number of scenarios (10 x 100).\n",
    "# These results should be saved to LoanData_YYYYMM_SEED_YYYYMMDDHHMMSS.npy\n",
    "# loans with the size number of programs x number of scenarios (10 x 100). -->  ?\n",
    "# --> loans of one record ? \n",
    "# or I shuld do it for all users ???\n",
    "# But I can show on one example\n",
    "data = get_loans_matrix(records, 10)"
   ]
  },
  {
   "cell_type": "code",
   "execution_count": 27,
   "metadata": {},
   "outputs": [],
   "source": [
    "data_path_out = 'LoanData_' + id_file + '.csv'\n",
    "np.savetxt(data_path_out, data, delimiter=',')"
   ]
  },
  {
   "cell_type": "markdown",
   "metadata": {},
   "source": [
    "## Analysis"
   ]
  },
  {
   "cell_type": "code",
   "execution_count": 34,
   "metadata": {},
   "outputs": [
    {
     "data": {
      "text/plain": [
       "[Text(0, 0.5, 'Frequency'), Text(0.5, 0, 'Loans_prog_9_user_10 ')]"
      ]
     },
     "execution_count": 34,
     "metadata": {},
     "output_type": "execute_result"
    },
    {
     "data": {
      "image/png": "[encoded data removed]",
      "text/plain": [
       "<Figure size 432x288 with 1 Axes>"
      ]
     },
     "metadata": {
      "needs_background": "light"
     },
     "output_type": "display_data"
    }
   ],
   "source": [
    "prog = 9\n",
    "ax = sns.distplot(data[prog],bins=100,kde=False,color='skyblue',hist_kws={\"linewidth\": 15,'alpha':1})\n",
    "ax.set(xlabel='Loans_prog_'+str(prog)+'_user_10 ', ylabel='Frequency')"
   ]
  },
  {
   "cell_type": "code",
   "execution_count": 37,
   "metadata": {},
   "outputs": [
    {
     "name": "stdout",
     "output_type": "stream",
     "text": [
      "[5.68895962e+23 1.18419643e+23 5.52676003e+20 1.98746152e+22\n",
      " 9.35966503e+22 3.65255216e+21 3.87671773e+22 2.64057811e+22\n",
      " 2.04946587e+22 1.33080575e+22 5.85943012e+22 4.08541410e+23\n",
      " 2.06756570e+21 2.61287216e+23 3.54131189e+22 6.03784736e+22\n",
      " 1.39402836e+21 2.81745817e+22 8.45747281e+23 1.58775663e+21\n",
      " 2.12311806e+20 3.55634965e+20 3.88203935e+22 9.23682444e+24\n",
      " 3.33354359e+23 1.38250333e+24 2.58079477e+22 6.75546540e+23\n",
      " 1.05559179e+22 9.17146132e+22 1.06556220e+22 5.45412830e+21\n",
      " 2.80081196e+22 6.48326169e+21 5.35938200e+23 3.26140390e+22\n",
      " 5.40253335e+22 9.00878429e+21 4.68710877e+23 3.55251348e+21\n",
      " 1.03158195e+23 8.72903800e+21 2.19366840e+21 6.28398101e+21\n",
      " 2.99911954e+21 1.21448971e+22 8.97646617e+21 4.34794181e+22\n",
      " 8.13542246e+22 1.42068908e+22 1.90488802e+22 4.10799961e+22\n",
      " 5.57679483e+21 1.16323049e+23 1.63007264e+23 3.33052431e+22\n",
      " 9.48369343e+24 1.97175032e+23 1.54618484e+22 8.49712367e+21\n",
      " 1.15906604e+22 6.10253236e+21 3.37727928e+23 3.84789381e+21\n",
      " 1.66684977e+22 5.71782153e+21 2.73487451e+23 7.34877632e+20\n",
      " 8.49067903e+21 1.51070360e+22 4.42554930e+22 6.27841948e+22\n",
      " 1.20551644e+22 2.36479085e+23 4.37568388e+22 1.15599186e+25\n",
      " 6.00560695e+20 9.34248615e+22 1.71935193e+21 3.04542704e+21\n",
      " 3.15692539e+24 1.67135971e+24 2.77208761e+20 1.18549866e+22\n",
      " 1.72948706e+22 1.51817243e+20 1.80210744e+22 5.31159195e+22\n",
      " 3.44404011e+22 2.04715702e+20 3.20002223e+23 3.68224689e+22\n",
      " 1.74601297e+22 3.37524657e+21 1.17437137e+23 1.97580256e+23\n",
      " 6.39259764e+21 2.52139518e+22 1.56861665e+23 2.23378097e+20\n",
      " 7.31049747e+23 1.51056408e+23 6.86147939e+20 2.51331304e+22\n",
      " 1.19257899e+23 4.57968646e+21 4.91857067e+22 3.34392194e+22\n",
      " 2.59211696e+22 1.67956317e+22 7.44907478e+22 5.24184371e+23\n",
      " 2.58477685e+21 3.34548895e+23 4.49103896e+22 7.67701039e+22\n",
      " 1.73917314e+21 3.56905390e+22 1.08879556e+24 1.98221428e+21\n",
      " 2.62229247e+20 4.40478670e+20 4.92535544e+22 1.20189008e+25\n",
      " 4.27309616e+23 1.78379103e+24 3.26784623e+22 8.68786783e+23\n",
      " 1.33068113e+22 1.16848486e+23 1.34331321e+22 6.85258355e+21\n",
      " 3.54786373e+22 8.15274363e+21 6.88508135e+23 4.13439655e+22\n",
      " 6.86552224e+22 1.13474485e+22 6.01769227e+23 4.45361996e+21\n",
      " 1.31502161e+23 1.09933339e+22 2.74326735e+21 7.90089592e+21\n",
      " 3.75658295e+21 1.53206421e+22 1.13065361e+22 5.51952168e+22\n",
      " 1.03589248e+23 1.79358665e+22 2.40838551e+22 5.21348280e+22\n",
      " 7.00749489e+21 1.48369341e+23 2.08248651e+23 4.22245256e+22\n",
      " 1.23415423e+25 2.52126210e+23 1.95284555e+22 1.06998094e+22\n",
      " 1.46180609e+22 7.67161850e+21 4.32942205e+23 4.82590118e+21\n",
      " 2.10603351e+22 7.18561361e+21 3.50244873e+23 9.13735987e+20\n",
      " 1.06916533e+22 1.90781189e+22 5.61852510e+22 7.98440186e+22\n",
      " 1.52068811e+22 3.02643032e+23 5.55491112e+22 1.50563645e+25\n",
      " 7.45927316e+20 1.19037963e+23 2.14739453e+21 3.81488705e+21\n",
      " 4.08839664e+24 2.15834251e+24 3.42880647e+20 1.49531154e+22\n",
      " 2.18557508e+22 1.87168215e+20 2.27781145e+22 6.74939843e+22\n",
      " 4.36708505e+22 2.52797012e+20 4.10115906e+23 4.67066195e+22\n",
      " 2.20656329e+22 4.23027636e+21 1.49797166e+23 2.52646814e+23\n",
      " 8.03815903e+21 3.19226727e+22 2.00360885e+23 2.75973686e+20\n",
      " 9.34792436e+23 1.91739172e+23 8.47657738e+20 3.16265602e+22\n",
      " 1.51206525e+23 5.71389774e+21 6.20970352e+22 4.21376835e+22\n",
      " 3.26231585e+22 2.10928676e+22 9.42336948e+22 6.69247491e+23\n",
      " 3.21546544e+21 4.26242132e+23 5.66743744e+22 9.71312628e+22\n",
      " 2.15909001e+21 4.49889774e+22 1.39477957e+24 2.46248788e+21\n",
      " 3.22286481e+20 5.42875492e+20 6.21831095e+22 1.55616328e+25\n",
      " 5.45047301e+23 2.29020502e+24 4.11743904e+22 1.11179580e+24\n",
      " 1.66920478e+22 1.48137218e+23 1.68512994e+22 8.56723889e+21\n",
      " 4.47205664e+22 1.02016779e+22 8.80152068e+23 5.21527225e+22\n",
      " 8.68173834e+22 1.42228910e+22 7.68792976e+23 5.55581738e+21\n",
      " 1.66808614e+23 1.37768549e+22 3.41367669e+21 9.88497102e+21\n",
      " 4.68219489e+21 1.92317019e+22 1.41713549e+22 6.97230387e+22\n",
      " 1.31251992e+23 2.25321836e+22 3.02998230e+22 6.58389166e+22\n",
      " 8.76190353e+21 1.88312378e+23 2.64736224e+23 5.32689640e+22\n",
      " 1.59812096e+25 3.20804001e+23 2.45432442e+22 1.34071902e+22\n",
      " 1.83454756e+22 9.59669033e+21 5.52265424e+23 6.02269951e+21\n",
      " 2.64783954e+22 8.98575735e+21 4.46335519e+23 1.13053089e+21\n",
      " 1.33969190e+22 2.39744926e+22 7.09797719e+22 1.01039531e+23\n",
      " 1.90881917e+22 3.85410990e+23 7.01722543e+22 1.95134135e+25\n",
      " 9.21917052e+20 1.50926340e+23 2.66879866e+21 4.75524036e+21\n",
      " 5.26856832e+24 2.77346713e+24 4.22020435e+20 1.87680834e+22\n",
      " 2.74834788e+22 2.29612950e+20 2.86491942e+22 8.53419248e+22\n",
      " 5.51026368e+22 3.10632308e+20 5.23016379e+23 5.89523622e+22\n",
      " 2.77487145e+22 5.27581231e+21 1.90133236e+23 3.21469527e+23\n",
      " 1.00575779e+22 4.02174940e+22 2.54662525e+23 3.39272641e+20\n",
      " 1.21708174e+24 2.47811303e+23 1.06625670e+21 4.05226013e+22\n",
      " 1.95205808e+23 7.25887354e+21 7.98256422e+22 5.40660981e+22\n",
      " 4.18058818e+22 2.69721164e+22 1.21380630e+23 8.70014088e+23\n",
      " 4.07290614e+21 5.52956144e+23 7.28226225e+22 1.25131081e+23\n",
      " 2.72921752e+21 5.77429471e+22 1.81928357e+24 3.11485034e+21\n",
      " 4.03310937e+20 6.81260840e+20 7.99368257e+22 2.05152014e+25\n",
      " 7.07885295e+23 2.99391437e+24 5.28241604e+22 1.44868129e+24\n",
      " 2.13199118e+22 1.91224762e+23 2.15243310e+22 1.09060521e+22\n",
      " 5.73967727e+22 1.29980920e+22 1.14562571e+24 6.69856169e+22\n",
      " 1.11783874e+23 1.81517174e+22 1.00005863e+24 7.05704370e+21\n",
      " 2.15448156e+23 1.75796784e+22 4.32530205e+21 1.25925775e+22\n",
      " 5.94218213e+21 2.45809467e+22 1.80856181e+22 8.96789866e+22\n",
      " 1.69330855e+23 2.88220124e+22 3.88145162e+22 8.46597479e+22\n",
      " 1.11551214e+22 2.43361657e+23 3.42675237e+23 6.84263587e+22\n",
      " 2.10707505e+25 4.15622915e+23 3.14076986e+22 1.71056538e+22\n",
      " 2.34427379e+22 1.22235156e+22 7.17303476e+23 7.65321707e+21\n",
      " 3.38967530e+22 1.14415713e+22 5.79146690e+23 1.42423930e+21\n",
      " 1.70924839e+22 3.06763286e+22 9.13032808e+22 1.30190555e+23\n",
      " 2.43966143e+22 4.99752745e+23 9.02595700e+22 2.57499263e+25\n",
      " 1.16018105e+21 1.94842378e+23 3.37722052e+21 6.03536082e+21\n",
      " 6.91297605e+24 3.62877398e+24 5.28885201e+20 2.39854741e+22\n",
      " 3.51898741e+22 2.86811757e+20 3.66899461e+22 1.09875070e+23\n",
      " 7.07934047e+22 3.88649570e+20 6.79142955e+23 7.57641281e+22\n",
      " 3.55311597e+22 6.69961663e+21 2.45725970e+23 4.16489180e+23\n",
      " 1.28135772e+22 5.15906068e+22 3.29575839e+23 4.24685124e+20\n",
      " 1.56435935e+24 3.16188463e+23 1.32409199e+21 5.12576776e+22\n",
      " 2.48788252e+23 9.10379561e+21 1.01304743e+23 6.84850037e+22\n",
      " 5.28889573e+22 3.40495089e+22 1.54350480e+23 1.11655116e+24\n",
      " 5.09308872e+21 7.08171648e+23 9.23765567e+22 1.59142714e+23\n",
      " 3.40581920e+21 7.31657470e+22 2.34264612e+24 3.88970256e+21\n",
      " 4.98254970e+20 8.43997518e+20 1.01446522e+23 2.66994480e+25\n",
      " 9.07621419e+23 3.86380193e+24 6.69043145e+22 1.86351362e+24\n",
      " 2.68829970e+22 2.43690741e+23 2.71420361e+22 1.37060029e+22\n",
      " 7.27249945e+22 1.63494885e+22 1.47210951e+24 8.49380087e+22\n",
      " 1.42091184e+23 2.28698907e+22 1.28426335e+24 8.84940652e+21\n",
      " 2.74714704e+23 2.21456434e+22 5.41036805e+21 1.58369092e+22\n",
      " 7.44490010e+21 3.10167257e+22 2.27861980e+22 1.13873006e+23\n",
      " 2.15665854e+23 3.63966761e+22 4.90867792e+22 1.07469944e+23\n",
      " 1.40206032e+22 3.10484632e+23 4.37891283e+23 8.67737830e+22\n",
      " 2.74256015e+25 5.31585530e+23 3.96786264e+22 2.15455769e+22\n",
      " 2.95735975e+22 1.53704771e+22 9.19752849e+23 9.60093173e+21\n",
      " 4.28391526e+22 1.43824616e+22 7.41872330e+23 1.77132791e+21\n",
      " 2.15289063e+22 3.87501793e+22 1.15945490e+23 1.65608642e+23\n",
      " 3.07829895e+22 6.39734793e+23 1.14613769e+23 3.35447062e+25\n",
      " 1.44136818e+21 2.48322881e+23 4.21909403e+21 7.56223996e+21\n",
      " 8.95459798e+24 4.68712863e+24 6.54340081e+20 3.02616884e+22\n",
      " 4.44815635e+22 3.53680105e+20 4.63871870e+22 1.39653371e+23\n",
      " 8.97902363e+22 4.80046630e+20 8.70603330e+23 9.61262261e+22\n",
      " 4.49150836e+22 8.39898968e+21 3.13515295e+23 5.32698642e+23\n",
      " 1.61162478e+22 6.53344711e+22 4.21075499e+23 5.24806342e+20\n",
      " 2.13258511e+24 4.27884528e+23 1.74393897e+21 6.87666676e+22\n",
      " 3.36296980e+23 1.21097074e+22 1.36355941e+23 9.20074907e+22\n",
      " 7.09659543e+22 4.55894492e+22 2.08172376e+23 1.51979376e+24\n",
      " 6.75485151e+21 9.61924191e+23 1.24283717e+23 2.14666762e+23\n",
      " 4.50777835e+21 9.83272456e+22 3.19937585e+24 5.15173128e+21\n",
      " 6.52857973e+20 1.10898357e+21 1.36547689e+23 3.68532034e+25\n",
      " 1.23424289e+24 5.28861029e+24 8.98737603e+22 2.54240673e+24\n",
      " 3.59523865e+22 3.29374457e+23 3.63005280e+22 1.82688820e+22\n",
      " 9.77320757e+22 2.18115542e+22 2.00627598e+24 1.14229866e+23\n",
      " 1.91563035e+23 3.05610499e+22 1.74918664e+24 1.17696450e+22\n",
      " 3.71515439e+23 2.95885376e+22 7.17785908e+21 2.11243866e+22\n",
      " 9.89303707e+21 4.15098343e+22 3.04486604e+22 1.53358446e+23\n",
      " 2.91328394e+23 4.87479976e+22 6.58403861e+22 1.44695140e+23\n",
      " 1.86903309e+22 4.20130048e+23 5.93478622e+23 1.16710705e+23\n",
      " 3.78598345e+25 7.21110354e+23 5.31660918e+22 2.87828904e+22\n",
      " 3.95692401e+22 2.04991784e+22 1.25081585e+24 1.27744032e+22\n",
      " 5.74223808e+22 1.91751455e+22 1.00791557e+24 2.33653340e+21\n",
      " 2.87605100e+22 5.19160515e+22 1.56162998e+23 2.23430756e+23\n",
      " 4.11954960e+22 8.68559111e+23 1.54360843e+23 4.63465947e+25\n",
      " 1.89924467e+21 3.35664969e+23 5.59031954e+21 1.00497560e+22\n",
      " 1.23020199e+25 6.42102899e+24 8.58620949e+20 4.04944699e+22\n",
      " 5.96348188e+22 4.62571814e+20 6.22023088e+22 1.88260974e+23\n",
      " 1.20787630e+23 6.28874568e+20 1.18367798e+24 1.29353186e+23\n",
      " 6.02188651e+22 1.11676556e+22 4.24250219e+23 7.22627304e+23\n",
      " 2.14988568e+22 8.77549061e+22 5.70584325e+23 6.87838715e+20\n",
      " 2.72445443e+24 5.42641760e+23 2.15254449e+21 8.64579784e+22\n",
      " 4.26012619e+23 1.50957072e+22 1.71998954e+23 1.15840041e+23\n",
      " 8.92366194e+22 5.72039666e+22 2.63114759e+23 1.93862882e+24\n",
      " 8.39573930e+21 1.22446945e+24 1.56701892e+23 2.71362489e+23\n",
      " 5.59128891e+21 1.23836222e+23 4.09474003e+24 6.39438066e+21\n",
      " 8.01663899e+20 1.36557735e+21 1.72241975e+23 4.76699472e+25\n",
      " 1.57289918e+24 6.78374758e+24 1.13140876e+23 3.25057704e+24\n",
      " 4.50594815e+22 4.17202817e+23 4.54979555e+22 2.28203213e+22\n",
      " 1.23083068e+23 2.72695302e+22 2.56238671e+24 1.43967640e+23\n",
      " 2.42026754e+23 3.82719812e+22 2.23265659e+24 1.46697004e+22\n",
      " 4.70845140e+23 3.70482079e+22 8.92424810e+21 2.64062296e+22\n",
      " 1.23199529e+22 5.20612277e+22 3.81305448e+22 1.93553908e+23\n",
      " 3.68799927e+23 6.11871332e+22 8.27614850e+22 1.82569515e+23\n",
      " 2.33494102e+22 5.32762281e+23 7.53788383e+23 1.47109412e+23\n",
      " 4.89776166e+25 9.16717634e+23 6.67607273e+22 3.60345577e+22\n",
      " 4.96157594e+22 2.56208877e+22 1.59411609e+24 1.59285603e+22\n",
      " 7.21322842e+22 2.39581202e+22 1.28328717e+24 2.88837125e+21\n",
      " 3.60064011e+22 6.51835222e+22 1.97110486e+23 2.82494390e+23\n",
      " 5.16650720e+22 1.10510554e+24 1.94825059e+23 6.00077687e+25\n",
      " 2.34528010e+21 4.25208269e+23 6.94164770e+21 1.25161060e+22\n",
      " 1.58382118e+25 8.24334254e+24 1.05586006e+21 5.07816315e+22\n",
      " 7.49251991e+22 5.66961674e+20 7.81669357e+22 2.37835287e+23\n",
      " 1.52273167e+23 7.72060130e+20 1.50817330e+24 1.63124754e+23\n",
      " 7.56625643e+22 1.39157186e+22 5.38011421e+23 9.18654939e+23\n",
      " 2.68766664e+22 1.10460826e+23 7.24578330e+23 8.44852271e+20\n",
      " 3.66079796e+24 7.23811991e+23 2.79448111e+21 1.14330017e+23\n",
      " 5.67607661e+23 1.97925694e+22 2.28194398e+23 1.53398834e+23\n",
      " 1.18022345e+23 7.54946791e+22 3.49779422e+23 2.60092837e+24\n",
      " 1.09756679e+22 1.63938003e+24 2.07807770e+23 3.60796003e+23\n",
      " 7.29440839e+21 1.64039822e+23 5.51200468e+24 8.34781044e+21\n",
      " 1.03536397e+21 1.76862291e+21 2.28518347e+23 6.48529915e+25\n",
      " 2.10826530e+24 9.15205919e+24 1.49807659e+23 4.37117873e+24\n",
      " 5.93981888e+22 5.55815769e+23 5.99790196e+22 2.99819840e+22\n",
      " 1.63037415e+23 3.58589420e+22 3.44208695e+24 1.90843654e+23\n",
      " 3.21619287e+23 5.04106445e+22 2.99730642e+24 1.92312728e+22\n",
      " 6.27632552e+23 4.87909818e+22 1.16701712e+22 3.47182214e+22\n",
      " 1.61367983e+22 6.86762026e+22 5.02234408e+22 2.56935133e+23\n",
      " 4.91049563e+23 8.07777564e+22 1.09418892e+23 2.42286908e+23\n",
      " 3.06805867e+22 7.10573742e+23 1.00697622e+24 1.95028386e+23\n",
      " 6.66396065e+25 1.22572918e+24 8.81730120e+22 4.74496102e+22\n",
      " 6.54349937e+22 3.36806672e+22 2.13683314e+24 2.08901386e+22\n",
      " 9.53029652e+22 3.14844148e+22 1.71849410e+24 3.75545396e+21\n",
      " 4.74123528e+22 8.60800091e+22 2.61678839e+23 3.75667431e+23\n",
      " 6.81510901e+22 1.47887987e+24 2.58630527e+23 8.17169922e+25\n",
      " 3.04604822e+21 5.66530994e+23 9.06603385e+21 1.63950165e+22\n",
      " 2.14464199e+25 1.11307038e+25 1.36564778e+21 6.69801410e+22\n",
      " 9.90111526e+22 7.30894751e+20 1.03316062e+23 3.16023472e+23\n",
      " 2.01907226e+23 9.96931394e+20 2.02112478e+24 2.16366541e+23\n",
      " 9.99902713e+22 1.82380403e+22 7.17607319e+23 1.22833138e+24\n",
      " 3.53398103e+22 1.46242313e+23 9.67779289e+23 1.09144564e+21\n",
      " 4.58037706e+24 8.99022665e+23 3.37820005e+21 1.40782968e+23\n",
      " 7.04217348e+23 2.41649855e+22 2.81914931e+23 1.89155852e+23\n",
      " 1.45351660e+23 9.27772612e+22 4.32988822e+23 3.24931706e+24\n",
      " 1.33609904e+22 2.04381792e+24 2.56615780e+23 4.46690752e+23\n",
      " 8.86143041e+21 2.02341600e+23 6.90909516e+24 1.01480434e+22\n",
      " 1.24516798e+21 2.13299064e+21 2.82317027e+23 8.21556128e+25\n",
      " 2.63135854e+24 1.14972804e+25 1.84706802e+23 5.47350523e+24\n",
      " 7.29113920e+22 6.89520552e+23 7.36278318e+22 3.66804377e+22\n",
      " 2.01099296e+23 4.39089187e+22 4.30554753e+24 2.35572556e+23\n",
      " 3.97973620e+23 6.18299413e+22 3.74688220e+24 2.34763440e+22\n",
      " 7.79050052e+23 5.98338855e+22 1.42107993e+22 4.25053904e+22\n",
      " 1.96816438e+22 8.43593481e+22 6.15992175e+22 3.17598777e+23\n",
      " 6.08825361e+23 9.93020970e+22 1.34707272e+23 2.99409438e+23\n",
      " 3.75393654e+22 8.82505003e+23 1.25262404e+24 2.40762752e+23\n",
      " 8.44284861e+25 1.52610663e+24 1.08438918e+23 5.81810312e+22\n",
      " 8.03591985e+22 4.12289886e+22 2.66717578e+24 2.55118385e+22\n",
      " 1.17251379e+23 3.85277832e+22 2.14290554e+24 4.54681423e+21\n",
      " 5.81351254e+22 1.05852638e+23 3.23490280e+23 4.65190190e+23\n",
      " 8.37112169e+22 1.84286324e+24 3.19704336e+23 1.03618776e+26\n",
      " 3.68395263e+21 7.02875390e+23 1.10257404e+22 1.99981655e+22\n",
      " 2.70413555e+25 1.39948611e+25 1.64477138e+21 8.22660336e+22\n",
      " 1.21835854e+23 8.77383977e+20 1.27159072e+23 3.91017240e+23\n",
      " 2.49295485e+23 1.19870840e+21 2.52211844e+24 2.67235607e+23\n",
      " 1.23046485e+23 2.22580116e+22 8.91280784e+23 1.52936125e+24\n",
      " 4.32701586e+22 1.80290244e+23 1.20364698e+24 1.31297872e+21\n",
      " 6.11992785e+24 1.19244488e+24 4.36109734e+21 1.85125099e+23\n",
      " 9.33014517e+23 3.15063010e+22 3.71925293e+23 2.49082103e+23\n",
      " 1.91161778e+23 1.21756592e+23 5.72378175e+23 4.33487060e+24\n",
      " 1.73689259e+22 2.72098448e+24 3.38399406e+23 5.90576434e+23\n",
      " 1.14959319e+22 2.66529948e+23 9.24807689e+24 1.31740305e+22\n",
      " 1.59914636e+21 2.74706256e+21 3.72458257e+23 1.11136429e+26\n",
      " 3.50716002e+24 1.54237101e+25 2.43196214e+23 7.31899938e+24\n",
      " 9.55748235e+22 9.13454271e+23 9.65185037e+22 4.79220078e+22\n",
      " 2.64885859e+23 5.74161774e+22 5.75114978e+24 3.10524898e+23\n",
      " 5.25884730e+23 8.09844179e+22 5.00183058e+24 3.06040868e+22\n",
      " 1.03263848e+24 7.83575637e+22 1.84793375e+22 5.55721027e+22\n",
      " 2.56349181e+22 1.10658803e+23 8.06807595e+22 4.19235967e+23\n",
      " 8.06090091e+23 1.30361913e+23 1.77098613e+23 3.95116791e+23\n",
      " 4.90497204e+22 1.17043698e+24 1.66396619e+24 3.17398967e+23\n",
      " 1.14224028e+26 2.02907028e+24 1.42416487e+23 7.61826839e+22\n",
      " 1.05386985e+23 5.38953097e+22 3.55511316e+24 3.32712173e+22\n",
      " 1.54047631e+23 5.03475970e+22 2.85350877e+24 5.87866033e+21\n",
      " 7.61222837e+22 1.39003804e+23 4.27049509e+23 6.15150525e+23\n",
      " 1.09804546e+23 2.45230688e+24 4.22028365e+23 1.40305860e+26\n",
      " 4.75792487e+21 9.31228402e+23 1.43193996e+22 2.60492380e+22\n",
      " 3.64097161e+25 1.87902036e+25 2.11542699e+21 1.07899863e+23\n",
      " 1.60100095e+23 1.12473318e+21 1.67129186e+23 5.16650163e+23\n",
      " 3.28701478e+23 1.53917201e+21 3.36092410e+24 3.52470805e+23\n",
      " 1.61698561e+23 2.90082212e+22 1.18212948e+24 2.03341712e+24\n",
      " 5.65768847e+22 2.37353958e+23 1.59861629e+24 1.68670330e+21]\n"
     ]
    },
    {
     "ename": "ValueError",
     "evalue": "color kwarg must have one color per data set. 100 data sets and 1 colors were provided",
     "output_type": "error",
     "traceback": [
      "\u001b[1;31m---------------------------------------------------------------------------\u001b[0m",
      "\u001b[1;31mValueError\u001b[0m                                Traceback (most recent call last)",
      "\u001b[1;32m<ipython-input-37-f9c60337a1f1>\u001b[0m in \u001b[0;36m<module>\u001b[1;34m\u001b[0m\n\u001b[0;32m      4\u001b[0m \u001b[0mtotal_data\u001b[0m \u001b[1;33m=\u001b[0m \u001b[0mnp\u001b[0m\u001b[1;33m.\u001b[0m\u001b[0marray\u001b[0m\u001b[1;33m(\u001b[0m\u001b[0mtotal_data\u001b[0m\u001b[1;33m)\u001b[0m\u001b[1;33m\u001b[0m\u001b[1;33m\u001b[0m\u001b[0m\n\u001b[0;32m      5\u001b[0m \u001b[0mprint\u001b[0m\u001b[1;33m(\u001b[0m\u001b[0mtotal_data\u001b[0m\u001b[1;33m)\u001b[0m\u001b[1;33m\u001b[0m\u001b[1;33m\u001b[0m\u001b[0m\n\u001b[1;32m----> 6\u001b[1;33m \u001b[0max\u001b[0m \u001b[1;33m=\u001b[0m \u001b[0msns\u001b[0m\u001b[1;33m.\u001b[0m\u001b[0mdistplot\u001b[0m\u001b[1;33m(\u001b[0m\u001b[0mdata\u001b[0m\u001b[1;33m,\u001b[0m\u001b[0mbins\u001b[0m\u001b[1;33m=\u001b[0m\u001b[1;36m1000\u001b[0m\u001b[1;33m,\u001b[0m\u001b[0mkde\u001b[0m\u001b[1;33m=\u001b[0m\u001b[1;32mFalse\u001b[0m\u001b[1;33m,\u001b[0m\u001b[0mcolor\u001b[0m\u001b[1;33m=\u001b[0m\u001b[1;34m'skyblue'\u001b[0m\u001b[1;33m,\u001b[0m\u001b[0mhist_kws\u001b[0m\u001b[1;33m=\u001b[0m\u001b[1;33m{\u001b[0m\u001b[1;34m\"linewidth\"\u001b[0m\u001b[1;33m:\u001b[0m \u001b[1;36m15\u001b[0m\u001b[1;33m,\u001b[0m\u001b[1;34m'alpha'\u001b[0m\u001b[1;33m:\u001b[0m\u001b[1;36m1\u001b[0m\u001b[1;33m}\u001b[0m\u001b[1;33m)\u001b[0m\u001b[1;33m\u001b[0m\u001b[1;33m\u001b[0m\u001b[0m\n\u001b[0m\u001b[0;32m      7\u001b[0m \u001b[0max\u001b[0m\u001b[1;33m.\u001b[0m\u001b[0mset\u001b[0m\u001b[1;33m(\u001b[0m\u001b[0mxlabel\u001b[0m\u001b[1;33m=\u001b[0m\u001b[1;34m'Loans_user_10 '\u001b[0m\u001b[1;33m,\u001b[0m \u001b[0mylabel\u001b[0m\u001b[1;33m=\u001b[0m\u001b[1;34m'Frequency'\u001b[0m\u001b[1;33m)\u001b[0m\u001b[1;33m\u001b[0m\u001b[1;33m\u001b[0m\u001b[0m\n",
      "\u001b[1;32m~\\Anaconda3\\lib\\site-packages\\seaborn\\distributions.py\u001b[0m in \u001b[0;36mdistplot\u001b[1;34m(a, bins, hist, kde, rug, fit, hist_kws, kde_kws, rug_kws, fit_kws, color, vertical, norm_hist, axlabel, label, ax)\u001b[0m\n\u001b[0;32m    223\u001b[0m         \u001b[0mhist_color\u001b[0m \u001b[1;33m=\u001b[0m \u001b[0mhist_kws\u001b[0m\u001b[1;33m.\u001b[0m\u001b[0mpop\u001b[0m\u001b[1;33m(\u001b[0m\u001b[1;34m\"color\"\u001b[0m\u001b[1;33m,\u001b[0m \u001b[0mcolor\u001b[0m\u001b[1;33m)\u001b[0m\u001b[1;33m\u001b[0m\u001b[1;33m\u001b[0m\u001b[0m\n\u001b[0;32m    224\u001b[0m         ax.hist(a, bins, orientation=orientation,\n\u001b[1;32m--> 225\u001b[1;33m                 color=hist_color, **hist_kws)\n\u001b[0m\u001b[0;32m    226\u001b[0m         \u001b[1;32mif\u001b[0m \u001b[0mhist_color\u001b[0m \u001b[1;33m!=\u001b[0m \u001b[0mcolor\u001b[0m\u001b[1;33m:\u001b[0m\u001b[1;33m\u001b[0m\u001b[1;33m\u001b[0m\u001b[0m\n\u001b[0;32m    227\u001b[0m             \u001b[0mhist_kws\u001b[0m\u001b[1;33m[\u001b[0m\u001b[1;34m\"color\"\u001b[0m\u001b[1;33m]\u001b[0m \u001b[1;33m=\u001b[0m \u001b[0mhist_color\u001b[0m\u001b[1;33m\u001b[0m\u001b[1;33m\u001b[0m\u001b[0m\n",
      "\u001b[1;32m~\\Anaconda3\\lib\\site-packages\\matplotlib\\__init__.py\u001b[0m in \u001b[0;36minner\u001b[1;34m(ax, data, *args, **kwargs)\u001b[0m\n\u001b[0;32m   1808\u001b[0m                         \u001b[1;34m\"the Matplotlib list!)\"\u001b[0m \u001b[1;33m%\u001b[0m \u001b[1;33m(\u001b[0m\u001b[0mlabel_namer\u001b[0m\u001b[1;33m,\u001b[0m \u001b[0mfunc\u001b[0m\u001b[1;33m.\u001b[0m\u001b[0m__name__\u001b[0m\u001b[1;33m)\u001b[0m\u001b[1;33m,\u001b[0m\u001b[1;33m\u001b[0m\u001b[1;33m\u001b[0m\u001b[0m\n\u001b[0;32m   1809\u001b[0m                         RuntimeWarning, stacklevel=2)\n\u001b[1;32m-> 1810\u001b[1;33m             \u001b[1;32mreturn\u001b[0m \u001b[0mfunc\u001b[0m\u001b[1;33m(\u001b[0m\u001b[0max\u001b[0m\u001b[1;33m,\u001b[0m \u001b[1;33m*\u001b[0m\u001b[0margs\u001b[0m\u001b[1;33m,\u001b[0m \u001b[1;33m**\u001b[0m\u001b[0mkwargs\u001b[0m\u001b[1;33m)\u001b[0m\u001b[1;33m\u001b[0m\u001b[1;33m\u001b[0m\u001b[0m\n\u001b[0m\u001b[0;32m   1811\u001b[0m \u001b[1;33m\u001b[0m\u001b[0m\n\u001b[0;32m   1812\u001b[0m         inner.__doc__ = _add_data_doc(inner.__doc__,\n",
      "\u001b[1;32m~\\Anaconda3\\lib\\site-packages\\matplotlib\\axes\\_axes.py\u001b[0m in \u001b[0;36mhist\u001b[1;34m(self, x, bins, range, density, weights, cumulative, bottom, histtype, align, orientation, rwidth, log, color, label, stacked, normed, **kwargs)\u001b[0m\n\u001b[0;32m   6563\u001b[0m                     \u001b[1;34m\"color kwarg must have one color per data set. %d data \"\u001b[0m\u001b[1;33m\u001b[0m\u001b[1;33m\u001b[0m\u001b[0m\n\u001b[0;32m   6564\u001b[0m                     \"sets and %d colors were provided\" % (nx, len(color)))\n\u001b[1;32m-> 6565\u001b[1;33m                 \u001b[1;32mraise\u001b[0m \u001b[0mValueError\u001b[0m\u001b[1;33m(\u001b[0m\u001b[0merror_message\u001b[0m\u001b[1;33m)\u001b[0m\u001b[1;33m\u001b[0m\u001b[1;33m\u001b[0m\u001b[0m\n\u001b[0m\u001b[0;32m   6566\u001b[0m \u001b[1;33m\u001b[0m\u001b[0m\n\u001b[0;32m   6567\u001b[0m         \u001b[1;31m# If bins are not specified either explicitly or via range,\u001b[0m\u001b[1;33m\u001b[0m\u001b[1;33m\u001b[0m\u001b[1;33m\u001b[0m\u001b[0m\n",
      "\u001b[1;31mValueError\u001b[0m: color kwarg must have one color per data set. 100 data sets and 1 colors were provided"
     ]
    },
    {
     "data": {
      "image/png": "[encoded data removed]",
      "text/plain": [
       "<Figure size 432x288 with 1 Axes>"
      ]
     },
     "metadata": {
      "needs_background": "light"
     },
     "output_type": "display_data"
    }
   ],
   "source": [
    "total_data = []\n",
    "for i in data:\n",
    "    total_data += list(i)\n",
    "total_data = np.array(total_data)\n",
    "print(total_data)\n",
    "ax = sns.distplot(data,bins=1000,kde=False,color='skyblue',hist_kws={\"linewidth\": 15,'alpha':1})\n",
    "ax.set(xlabel='Loans_user_10 ', ylabel='Frequency')"
   ]
  },
  {
   "cell_type": "code",
   "execution_count": null,
   "metadata": {},
   "outputs": [],
   "source": []
  },
  {
   "cell_type": "code",
   "execution_count": null,
   "metadata": {},
   "outputs": [],
   "source": []
  },
  {
   "cell_type": "code",
   "execution_count": null,
   "metadata": {},
   "outputs": [],
   "source": []
  }
 ],
 "metadata": {
  "kernelspec": {
   "display_name": "Python 3",
   "language": "python",
   "name": "python3"
  },
  "language_info": {
   "codemirror_mode": {
    "name": "ipython",
    "version": 3
   },
   "file_extension": ".py",
   "mimetype": "text/x-python",
   "name": "python",
   "nbconvert_exporter": "python",
   "pygments_lexer": "ipython3",
   "version": "3.6.7"
  }
 },
 "nbformat": 4,
 "nbformat_minor": 2
}

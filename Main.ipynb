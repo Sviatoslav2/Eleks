{
 "cells": [
  {
   "cell_type": "code",
   "execution_count": 1,
   "metadata": {},
   "outputs": [],
   "source": [
    "import numpy as np\n",
    "\n",
    "import seaborn as sns\n",
    "from mimesis import Person\n",
    "from mimesis.providers.payment import Payment\n",
    "from mimesis.enums import Gender, CardType\n",
    "from data_requirements import *\n",
    "from matplotlib import pyplot as plt \n",
    "from data_transformation import *"
   ]
  },
  {
   "cell_type": "code",
   "execution_count": 2,
   "metadata": {},
   "outputs": [
    {
     "name": "stdout",
     "output_type": "stream",
     "text": [
      "[('0000000000000000', 'Dorotha Mcclain', '4137 9141 7776 3174', '01/23', 'F', '31032.994249370044')\n",
      " ('0000000000000001', 'Candra Dyer', '4443 9074 3915 0007', '11/24', 'F', '41046.58442914038')\n",
      " ('0000000000000002', 'Cyrus Knapp', '4009 6360 8377 8351', '04/25', 'M', '46049.40901059186')\n",
      " ...\n",
      " ('0000000000009997', 'Kandace Bernard', '4470 7865 0083 4285', '08/25', 'F', '10008.736986048307')\n",
      " ('0000000000009998', 'Delmar Vincent', '4952 4834 5348 6209', '01/22', 'M', '6004.631078314692')\n",
      " ('0000000000009999', 'Roselle Santiago', '4813 4435 4546 1577', '03/24', 'F', '23017.359356568228')]\n"
     ]
    }
   ],
   "source": [
    "class DataGenerator:\n",
    "    @staticmethod\n",
    "    def generate_personal_data(num_records, seed):\n",
    "        person = Person('en',seed=seed)\n",
    "        payment = Payment(seed=seed)\n",
    "\n",
    "        dtype = np.dtype([\n",
    "            ('id', np.unicode_, 16),\n",
    "            ('full_name', np.unicode_, 32),\n",
    "            ('credit_card_number', np.unicode_, 32),\n",
    "            ('credit_card_expiration_date', np.unicode_, 8),\n",
    "            ('gender', np.unicode_, 1),\n",
    "            ('loan',np.unicode_, 32)\n",
    "        ])\n",
    "        \n",
    "        \n",
    "        \n",
    "        np.random.seed(seed)\n",
    "        \n",
    "        rng = np.random.randint(0, 2, num_records)\n",
    "        loans = get_uniform_loans(1000,100000,1000)\n",
    "        records_npy = np.empty(num_records, dtype=dtype)\n",
    "        \n",
    "        for idx in range(num_records):\n",
    "            if rng[idx] == 0:\n",
    "                gender = Gender.MALE\n",
    "            else:    \n",
    "                gender = Gender.FEMALE\n",
    "            records_npy['id'][idx] = str('{:016d}'.format(idx))\n",
    "            records_npy['full_name'][idx] = person.full_name(gender=gender)\n",
    "            records_npy['credit_card_number'][idx] = payment.credit_card_number(card_type=CardType.VISA)\n",
    "            records_npy['credit_card_expiration_date'][idx] = payment.credit_card_expiration_date(minimum=20,maximum=25)\n",
    "            records_npy['gender'][idx] = 'M' if rng[idx] == 0 else 'F'\n",
    "            if idx < len(loans) - 1:\n",
    "                records_npy['loan'][idx] = loans[idx]\n",
    "            else:\n",
    "                records_npy['loan'][idx] = np.random.choice(loans)        \n",
    "        records_npy = records_npy[:num_records]\n",
    "        \n",
    "        number, same_nameId = uniform_rec_id(records_npy, rng)\n",
    "        name = get_name(records_npy['full_name'], same_nameId)\n",
    "        \n",
    "        for idx in same_nameId:\n",
    "            records_npy['full_name'][idx] = name    \n",
    "        return records_npy, name\n",
    "if __name__ == '__main__':\n",
    "    data, name = DataGenerator.generate_personal_data(10000,1)\n",
    "    print(data)"
   ]
  },
  {
   "cell_type": "markdown",
   "metadata": {},
   "source": [
    "## Data generation"
   ]
  },
  {
   "cell_type": "markdown",
   "metadata": {},
   "source": [
    "## Data data exploration"
   ]
  },
  {
   "cell_type": "code",
   "execution_count": 3,
   "metadata": {},
   "outputs": [
    {
     "data": {
      "text/plain": [
       "array([('0000000000000000', 'Luvenia Wiley', '4331 2601 8159 0839', '01/20', 'F', '89100.54008423086'),\n",
       "       ('0000000000000001', 'Dirk Heath', '4444 6131 8609 1399', '01/24', 'M', '3002.1631493278883'),\n",
       "       ('0000000000000002', 'Berry Blackwell', '4599 6030 8246 2813', '10/22', 'F', '99110.10862637371'),\n",
       "       ...,\n",
       "       ('0000000000049997', 'Oscar Barnes', '4417 0545 1120 1481', '01/22', 'M', '90100.72236567838'),\n",
       "       ('0000000000049998', 'Donovan Dorsey', '4889 9985 1750 2863', '08/24', 'M', '22023.39431006226'),\n",
       "       ('0000000000049999', 'Dan Middleton', '4965 9692 0665 7273', '12/20', 'F', '4004.6655962569407')],\n",
       "      dtype=[('id', '<U16'), ('full_name', '<U32'), ('credit_card_number', '<U32'), ('credit_card_expiration_date', '<U8'), ('gender', '<U1'), ('loan', '<U32')])"
      ]
     },
     "execution_count": 3,
     "metadata": {},
     "output_type": "execute_result"
    }
   ],
   "source": [
    "SEED = 7\n",
    "num_records = 50000\n",
    "data, name = DataGenerator.generate_personal_data(num_records,SEED)\n",
    "data"
   ]
  },
  {
   "cell_type": "markdown",
   "metadata": {},
   "source": [
    "## loan - a random floating point number uniformly distributed in the range between 1000 and 100000 and minimum step 1000"
   ]
  },
  {
   "cell_type": "code",
   "execution_count": 4,
   "metadata": {},
   "outputs": [
    {
     "data": {
      "text/plain": [
       "[Text(0, 0.5, 'Frequency'), Text(0.5, 0, 'Uniform ')]"
      ]
     },
     "execution_count": 4,
     "metadata": {},
     "output_type": "execute_result"
    },
    {
     "data": {
      "image/png": "[encoded data removed]",
      "text/plain": [
       "<Figure size 432x288 with 1 Axes>"
      ]
     },
     "metadata": {
      "needs_background": "light"
     },
     "output_type": "display_data"
    }
   ],
   "source": [
    "# to show you requirements\n",
    "loans = np.array([float(i) for i in data['loan']])\n",
    "ax = sns.distplot(loans,\n",
    "                  bins=1000,\n",
    "                  kde=False,\n",
    "                  color='skyblue',\n",
    "                  hist_kws={\"linewidth\": 15,'alpha':1})\n",
    "ax.set(xlabel='Uniform ', ylabel='Frequency')"
   ]
  },
  {
   "cell_type": "markdown",
   "metadata": {},
   "source": [
    "## There should be up to 12 records with the same full_name while the other data can be different. A particular number of such records should be uniformly distributed"
   ]
  },
  {
   "cell_type": "code",
   "execution_count": 5,
   "metadata": {},
   "outputs": [
    {
     "data": {
      "text/plain": [
       "[Text(0, 0.5, 'Frequency'),\n",
       " Text(0.5, 0, 'Number of records with the same full_name')]"
      ]
     },
     "execution_count": 5,
     "metadata": {},
     "output_type": "execute_result"
    },
    {
     "data": {
      "image/png": "[encoded data removed]",
      "text/plain": [
       "<Figure size 432x288 with 1 Axes>"
      ]
     },
     "metadata": {
      "needs_background": "light"
     },
     "output_type": "display_data"
    }
   ],
   "source": [
    "numbers_occurred = []\n",
    "for i in range(1,18):\n",
    "    data1, name = DataGenerator.generate_personal_data(100,i)\n",
    "    number = len([i for i in data1['full_name'] if i == name])\n",
    "    numbers_occurred.append(number)\n",
    "    \n",
    "ax = sns.distplot(numbers_occurred,\n",
    "                  bins=17,\n",
    "                  kde=False,\n",
    "                  color='skyblue',\n",
    "                  hist_kws={\"linewidth\": 15,'alpha':1})\n",
    "ax.set(xlabel=\"Number of records with the same full_name\", ylabel='Frequency')    "
   ]
  },
  {
   "cell_type": "markdown",
   "metadata": {},
   "source": [
    "## Save to  file "
   ]
  },
  {
   "cell_type": "code",
   "execution_count": 6,
   "metadata": {},
   "outputs": [],
   "source": [
    "data_path_in, id_file = data_save(data, SEED,\"\")\n",
    "data_path_out = \"MappedInputData_\" + id_file + \".csv\""
   ]
  },
  {
   "cell_type": "markdown",
   "metadata": {},
   "source": [
    "## Data extraction, transformation and validation"
   ]
  },
  {
   "cell_type": "code",
   "execution_count": 7,
   "metadata": {},
   "outputs": [],
   "source": [
    "# Read data from text\n",
    "dtypeFromFile = {'names': ('id',\n",
    "                           'full_name',\n",
    "                           'credit_card_number',\n",
    "                           'credit_card_expiration_date',\n",
    "                           'gender',\n",
    "                           'loan'),\n",
    "                 'formats':('|S16',\n",
    "                            '|S32',\n",
    "                            '|S32',\n",
    "                            '|S8',\n",
    "                            '|S1',\n",
    "                            '|S32')}\n",
    "                 \n",
    "dataFromFile = np.loadtxt(data_path_in, dtype=dtypeFromFile, delimiter=',')"
   ]
  },
  {
   "cell_type": "code",
   "execution_count": 8,
   "metadata": {},
   "outputs": [
    {
     "name": "stdout",
     "output_type": "stream",
     "text": [
      "Chase Marshall\n"
     ]
    },
    {
     "data": {
      "text/plain": [
       "[10]"
      ]
     },
     "execution_count": 8,
     "metadata": {},
     "output_type": "execute_result"
    }
   ],
   "source": [
    "# For 2 Stage I use part of data from 1 Stage\n",
    "records = records_array(dataFromFile, SEED)   \n",
    "print(records.get_name(10))\n",
    "records.get_id('Chase Marshall')"
   ]
  },
  {
   "cell_type": "code",
   "execution_count": 9,
   "metadata": {},
   "outputs": [
    {
     "data": {
      "text/plain": [
       "array([    0,     1,     2, ..., 49997, 49998, 49999])"
      ]
     },
     "execution_count": 9,
     "metadata": {},
     "output_type": "execute_result"
    }
   ],
   "source": [
    "records.data['user_id']"
   ]
  },
  {
   "cell_type": "code",
   "execution_count": 10,
   "metadata": {},
   "outputs": [
    {
     "data": {
      "text/plain": [
       "array([0, 1, 0, ..., 1, 1, 0], dtype=int16)"
      ]
     },
     "execution_count": 10,
     "metadata": {},
     "output_type": "execute_result"
    }
   ],
   "source": [
    "records.data['gender']"
   ]
  },
  {
   "cell_type": "code",
   "execution_count": 11,
   "metadata": {},
   "outputs": [
    {
     "data": {
      "text/plain": [
       "array([[2020,    1,   31],\n",
       "       [2024,    1,   31],\n",
       "       [2022,   10,   31],\n",
       "       ...,\n",
       "       [2022,    1,   31],\n",
       "       [2024,    8,   31],\n",
       "       [2020,   12,   31]], dtype=int16)"
      ]
     },
     "execution_count": 11,
     "metadata": {},
     "output_type": "execute_result"
    }
   ],
   "source": [
    "records.data['expiration_date']"
   ]
  },
  {
   "cell_type": "code",
   "execution_count": 12,
   "metadata": {},
   "outputs": [
    {
     "data": {
      "text/plain": [
       "array([[11012.46315187, 82090.68555835, 10011.63517138, ...,\n",
       "        95105.03172516, 78088.81966525,  4004.73932993],\n",
       "       [11012.46315187, 34043.58706395, 22025.66319073, ...,\n",
       "        72079.35665887, 20024.86413886, 77081.51151132],\n",
       "       [36045.2068162 , 78088.81966525, 66071.09073205, ...,\n",
       "        33039.33720038, 44054.6510783 , 58067.18803837],\n",
       "       ...,\n",
       "       [72079.35665887, 16021.8401458 , 37045.278996  , ...,\n",
       "        87097.3725392 , 66071.09073205, 62070.16778499],\n",
       "       [ 4004.73932993,  3002.16314933, 25030.96066948, ...,\n",
       "        33039.33720038, 60069.47933044, 22025.66319073],\n",
       "       [52062.85447702,  3002.16314933, 23028.67359269, ...,\n",
       "        11012.46315187, 91101.28301904,  3002.16314933]])"
      ]
     },
     "execution_count": 12,
     "metadata": {},
     "output_type": "execute_result"
    }
   ],
   "source": [
    "records.data['loan'] "
   ]
  },
  {
   "cell_type": "markdown",
   "metadata": {},
   "source": [
    "## Validation"
   ]
  },
  {
   "cell_type": "code",
   "execution_count": 13,
   "metadata": {},
   "outputs": [],
   "source": [
    "unique, index, count = np.unique(dataFromFile, \n",
    "                          return_index=True,\n",
    "                          return_counts=True, axis=0)"
   ]
  },
  {
   "cell_type": "code",
   "execution_count": 14,
   "metadata": {},
   "outputs": [],
   "source": [
    "invalid_records = unique[count > 10]"
   ]
  },
  {
   "cell_type": "code",
   "execution_count": 15,
   "metadata": {},
   "outputs": [],
   "source": [
    "invalid_user_list = np.array([records.get_name(i) for i in index[count > 10]])"
   ]
  },
  {
   "cell_type": "code",
   "execution_count": 16,
   "metadata": {},
   "outputs": [],
   "source": [
    "invalid_index = index[count > 10]"
   ]
  },
  {
   "cell_type": "code",
   "execution_count": 17,
   "metadata": {},
   "outputs": [],
   "source": [
    "for idx in invalid_index:\n",
    "    records.remouve_row(idx)"
   ]
  },
  {
   "cell_type": "code",
   "execution_count": 18,
   "metadata": {},
   "outputs": [
    {
     "data": {
      "text/plain": [
       "array([(    0, 0, [2020,    1,   31], [11012.46315187, 82090.68555835, 10011.63517138, 40050.49315993, 26031.58598496, 43053.90488111, 72079.35665887, 95105.03172516, 78088.81966525,  4004.73932993]),\n",
       "       (    1, 1, [2024,    1,   31], [11012.46315187, 34043.58706395, 22025.66319073, 98108.38660983, 95105.03172516, 40050.49315993, 61069.75009672, 72079.35665887, 20024.86413886, 77081.51151132]),\n",
       "       (    2, 0, [2022,   10,   31], [36045.2068162 , 78088.81966525, 66071.09073205, 52062.85447702, 11012.46315187, 39048.68635454, 73080.27190419, 33039.33720038, 44054.6510783 , 58067.18803837]),\n",
       "       ...,\n",
       "       (49997, 1, [2022,    1,   31], [72079.35665887, 16021.8401458 , 37045.278996  , 19024.35803841, 25030.96066948, 27031.67720383, 84092.81619157, 87097.3725392 , 66071.09073205, 62070.16778499]),\n",
       "       (49998, 1, [2024,    8,   31], [ 4004.73932993,  3002.16314933, 25030.96066948, 29034.70849542, 10011.63517138, 13019.51374347, 49061.09364297, 33039.33720038, 60069.47933044, 22025.66319073]),\n",
       "       (49999, 0, [2020,   12,   31], [52062.85447702,  3002.16314933, 23028.67359269, 28034.23024801, 80090.42248919, 29034.70849542, 31038.31861618, 11012.46315187, 91101.28301904,  3002.16314933])],\n",
       "      dtype=[('user_id', '<i4'), ('gender', '<i2'), ('expiration_date', '<i2', (3,)), ('loan', '<f8', (10,))])"
      ]
     },
     "execution_count": 18,
     "metadata": {},
     "output_type": "execute_result"
    }
   ],
   "source": [
    "records.data"
   ]
  },
  {
   "cell_type": "code",
   "execution_count": 19,
   "metadata": {},
   "outputs": [
    {
     "data": {
      "text/plain": [
       "array([[11012.46315187, 82090.68555835, 10011.63517138, ...,\n",
       "        95105.03172516, 78088.81966525,  4004.73932993],\n",
       "       [11012.46315187, 34043.58706395, 22025.66319073, ...,\n",
       "        72079.35665887, 20024.86413886, 77081.51151132],\n",
       "       [36045.2068162 , 78088.81966525, 66071.09073205, ...,\n",
       "        33039.33720038, 44054.6510783 , 58067.18803837],\n",
       "       ...,\n",
       "       [72079.35665887, 16021.8401458 , 37045.278996  , ...,\n",
       "        87097.3725392 , 66071.09073205, 62070.16778499],\n",
       "       [ 4004.73932993,  3002.16314933, 25030.96066948, ...,\n",
       "        33039.33720038, 60069.47933044, 22025.66319073],\n",
       "       [52062.85447702,  3002.16314933, 23028.67359269, ...,\n",
       "        11012.46315187, 91101.28301904,  3002.16314933]])"
      ]
     },
     "execution_count": 19,
     "metadata": {},
     "output_type": "execute_result"
    }
   ],
   "source": [
    "records.data['loan']"
   ]
  },
  {
   "cell_type": "code",
   "execution_count": 20,
   "metadata": {},
   "outputs": [
    {
     "data": {
      "text/plain": [
       "<data_transformation.records_array at 0x1ec9f537470>"
      ]
     },
     "execution_count": 20,
     "metadata": {},
     "output_type": "execute_result"
    }
   ],
   "source": [
    "loans_dict = get_loans(records)\n",
    "rewrite_loans(records, loans_dict)"
   ]
  },
  {
   "cell_type": "code",
   "execution_count": 21,
   "metadata": {},
   "outputs": [
    {
     "data": {
      "text/plain": [
       "array([(    0, 0, [2020,    1,   31], [63952387.41950694, 63530966.81564663, 64087671.91437761, 62852370.94051827, 63598006.8018615 , 65183891.6602595 , 65134595.54847924, 64085558.45355438, 66644302.56356726, 63158565.21689467]),\n",
       "       (    1, 1, [2024,    1,   31], [84336957.94451419, 86650529.487753  , 86301039.82316232, 87278087.23212501, 86017669.98593122, 84769407.23364604, 85168954.60078454, 86686516.12448783, 84988751.22737978, 86001767.48059218]),\n",
       "       (    2, 0, [2022,   10,   31], [88975261.65505362, 88777809.30961761, 89550930.77588935, 89949349.4392019 , 89926143.86001046, 88390692.69617292, 89217317.681822  , 89558906.1436581 , 91271778.56597061, 87583513.85354848]),\n",
       "       ...,\n",
       "       (49997, 1, [2022,    1,   31], [ 7866978.29378902,  8372569.14531297,  7577748.08396999,  8299514.98587508,  8486747.78108062,  8252492.77452137,  8156435.31249073,  8554741.29066491,  7843979.90211925,  7472588.10420491]),\n",
       "       (49998, 1, [2024,    8,   31], [14878080.37325052, 16273600.82741957, 14992261.89241285, 15794154.07457364, 14910233.08075136, 15465695.36126863, 15940232.9681915 , 15012289.23631852, 14963246.10972482, 14547761.65849614]),\n",
       "       (49999, 0, [2020,   12,   31], [38449359.47713596, 40113924.55871173, 38108930.59406469, 39772512.81846529, 39434229.99458152, 38783620.85759241, 40864888.12239434, 40253076.61629539, 39381138.2031402 , 39010894.60655586])],\n",
       "      dtype=[('user_id', '<i4'), ('gender', '<i2'), ('expiration_date', '<i2', (3,)), ('loan', '<f8', (10,))])"
      ]
     },
     "execution_count": 21,
     "metadata": {},
     "output_type": "execute_result"
    }
   ],
   "source": [
    "records.data"
   ]
  },
  {
   "cell_type": "code",
   "execution_count": 22,
   "metadata": {},
   "outputs": [],
   "source": [
    "np.savetxt(data_path_out, records.data, delimiter=',',fmt=('%16s', '%16s', '%32s', '%32s'),\n",
    "           header='user_id gender expiration_date loan')"
   ]
  },
  {
   "cell_type": "markdown",
   "metadata": {},
   "source": [
    "## Simulation and Analysis"
   ]
  },
  {
   "cell_type": "code",
   "execution_count": 23,
   "metadata": {},
   "outputs": [],
   "source": [
    "from data_calculation import *"
   ]
  },
  {
   "cell_type": "code",
   "execution_count": 24,
   "metadata": {},
   "outputs": [],
   "source": [
    "'''\n",
    "def get_all_matrix(records):\n",
    "    return np.array([get_loans_matrix(records, idx) for idx in records.data['user_id']])    \n",
    "get_all_matrix(records)\n",
    "'''\n",
    "# This task is unclear for me ! =( \n",
    "# But still some functions in data_calculation is usful\n",
    "# get_projection_number(expiration_date) -> projection_number\n",
    "# get_monthly_payment(records, idx, prog) \n",
    "# payment(prev, gender, payment_rate)\n",
    "# loan(curent_sum, prev, gender, payment_rate)\n",
    "\n",
    "# The result should be an array of loans with the size number of programs x number of scenarios (10 x 100).\n",
    "# These results should be saved to LoanData_YYYYMM_SEED_YYYYMMDDHHMMSS.npy\n",
    "# loans with the size number of programs x number of scenarios (10 x 100). -->  ?\n",
    "# --> loans of one record ? \n",
    "# or I shuld do it for all users ???\n",
    "# But I can show on one example\n",
    "data = get_loans_matrix(records, 10)"
   ]
  },
  {
   "cell_type": "code",
   "execution_count": 27,
   "metadata": {},
   "outputs": [],
   "source": [
    "data_path_out = 'LoanData_' + id_file + '.csv'\n",
    "np.savetxt(data_path_out, data, delimiter=',')"
   ]
  },
  {
   "cell_type": "markdown",
   "metadata": {},
   "source": [
    "## Analysis"
   ]
  },
  {
   "cell_type": "code",
   "execution_count": 42,
   "metadata": {},
   "outputs": [
    {
     "data": {
      "text/plain": [
       "(array([78.,  6.,  4.,  2.,  2.,  1.,  1.,  0.,  0.,  0.,  1.,  0.,  0.,\n",
       "         1.,  0.,  0.,  0.,  0.,  0.,  0.,  0.,  0.,  0.,  0.,  0.,  1.,\n",
       "         0.,  0.,  0.,  0.,  0.,  0.,  0.,  0.,  0.,  0.,  0.,  0.,  0.,\n",
       "         0.,  0.,  0.,  0.,  0.,  0.,  0.,  0.,  0.,  0.,  0.,  0.,  0.,\n",
       "         0.,  0.,  0.,  0.,  0.,  0.,  0.,  0.,  0.,  0.,  0.,  0.,  0.,\n",
       "         0.,  0.,  0.,  0.,  0.,  0.,  0.,  0.,  0.,  0.,  0.,  0.,  0.,\n",
       "         0.,  1.,  0.,  1.,  0.,  0.,  0.,  0.,  0.,  0.,  0.,  0.,  0.,\n",
       "         0.,  0.,  0.,  0.,  0.,  0.,  0.,  0.,  1.]),\n",
       " array([1.12473318e+21, 1.40417209e+24, 2.80721944e+24, 4.21026679e+24,\n",
       "        5.61331414e+24, 7.01636149e+24, 8.41940885e+24, 9.82245620e+24,\n",
       "        1.12255036e+25, 1.26285509e+25, 1.40315983e+25, 1.54346456e+25,\n",
       "        1.68376930e+25, 1.82407403e+25, 1.96437877e+25, 2.10468350e+25,\n",
       "        2.24498824e+25, 2.38529297e+25, 2.52559771e+25, 2.66590244e+25,\n",
       "        2.80620718e+25, 2.94651191e+25, 3.08681665e+25, 3.22712138e+25,\n",
       "        3.36742612e+25, 3.50773085e+25, 3.64803559e+25, 3.78834032e+25,\n",
       "        3.92864506e+25, 4.06894979e+25, 4.20925453e+25, 4.34955927e+25,\n",
       "        4.48986400e+25, 4.63016874e+25, 4.77047347e+25, 4.91077821e+25,\n",
       "        5.05108294e+25, 5.19138768e+25, 5.33169241e+25, 5.47199715e+25,\n",
       "        5.61230188e+25, 5.75260662e+25, 5.89291135e+25, 6.03321609e+25,\n",
       "        6.17352082e+25, 6.31382556e+25, 6.45413029e+25, 6.59443503e+25,\n",
       "        6.73473976e+25, 6.87504450e+25, 7.01534923e+25, 7.15565397e+25,\n",
       "        7.29595871e+25, 7.43626344e+25, 7.57656818e+25, 7.71687291e+25,\n",
       "        7.85717765e+25, 7.99748238e+25, 8.13778712e+25, 8.27809185e+25,\n",
       "        8.41839659e+25, 8.55870132e+25, 8.69900606e+25, 8.83931079e+25,\n",
       "        8.97961553e+25, 9.11992026e+25, 9.26022500e+25, 9.40052973e+25,\n",
       "        9.54083447e+25, 9.68113920e+25, 9.82144394e+25, 9.96174867e+25,\n",
       "        1.01020534e+26, 1.02423581e+26, 1.03826629e+26, 1.05229676e+26,\n",
       "        1.06632724e+26, 1.08035771e+26, 1.09438818e+26, 1.10841866e+26,\n",
       "        1.12244913e+26, 1.13647960e+26, 1.15051008e+26, 1.16454055e+26,\n",
       "        1.17857102e+26, 1.19260150e+26, 1.20663197e+26, 1.22066244e+26,\n",
       "        1.23469292e+26, 1.24872339e+26, 1.26275386e+26, 1.27678434e+26,\n",
       "        1.29081481e+26, 1.30484528e+26, 1.31887576e+26, 1.33290623e+26,\n",
       "        1.34693671e+26, 1.36096718e+26, 1.37499765e+26, 1.38902813e+26,\n",
       "        1.40305860e+26]),\n",
       " <a list of 100 Patch objects>)"
      ]
     },
     "execution_count": 42,
     "metadata": {},
     "output_type": "execute_result"
    },
    {
     "data": {
      "image/png": "[encoded data removed]",
      "text/plain": [
       "<Figure size 432x288 with 1 Axes>"
      ]
     },
     "metadata": {
      "needs_background": "light"
     },
     "output_type": "display_data"
    }
   ],
   "source": [
    "prog = 9\n",
    "plt.hist(data[prog], bins=len(data[prog]))"
   ]
  },
  {
   "cell_type": "code",
   "execution_count": 44,
   "metadata": {},
   "outputs": [
    {
     "data": {
      "text/plain": [
       "(array([612., 105.,  49.,  33.,  18.,  17.,  19.,   8.,  13.,   4.,   7.,\n",
       "          7.,   4.,   3.,   5.,   6.,   2.,   2.,   4.,   4.,   1.,   2.,\n",
       "          2.,   3.,   2.,   2.,   2.,   1.,   0.,   2.,   2.,   1.,   1.,\n",
       "          1.,   0.,   1.,   0.,   2.,   0.,   2.,   1.,   0.,   0.,   1.,\n",
       "          0.,   1.,   0.,   0.,   1.,   2.,   0.,   0.,   1.,   0.,   0.,\n",
       "          0.,   0.,   0.,   1.,   0.,   0.,   0.,   0.,   1.,   0.,   3.,\n",
       "          0.,   1.,   0.,   0.,   0.,   0.,   0.,   0.,   0.,   0.,   0.,\n",
       "          0.,   0.,   1.,   0.,   1.,   1.,   0.,   0.,   1.,   0.,   2.,\n",
       "          0.,   0.,   0.,   0.,   0.,   0.,   0.,   0.,   0.,   0.,   0.,\n",
       "          1.,   0.,   0.,   0.,   0.,   0.,   0.,   0.,   1.,   0.,   1.,\n",
       "          1.,   0.,   1.,   1.,   0.,   0.,   0.,   0.,   0.,   0.,   0.,\n",
       "          0.,   0.,   0.,   0.,   0.,   0.,   0.,   0.,   0.,   0.,   0.,\n",
       "          0.,   1.,   0.,   0.,   0.,   0.,   0.,   1.,   0.,   0.,   0.,\n",
       "          0.,   0.,   0.,   1.,   0.,   0.,   0.,   1.,   0.,   1.,   0.,\n",
       "          0.,   0.,   0.,   0.,   0.,   0.,   0.,   0.,   0.,   0.,   0.,\n",
       "          0.,   0.,   0.,   0.,   0.,   0.,   0.,   0.,   0.,   0.,   0.,\n",
       "          0.,   0.,   0.,   0.,   0.,   0.,   0.,   1.,   0.,   0.,   0.,\n",
       "          0.,   0.,   0.,   1.,   0.,   1.,   0.,   0.,   1.,   0.,   0.,\n",
       "          0.,   0.,   0.,   0.,   0.,   0.,   0.,   0.,   0.,   0.,   0.,\n",
       "          0.,   0.,   0.,   0.,   0.,   0.,   0.,   0.,   0.,   0.,   0.,\n",
       "          0.,   0.,   0.,   0.,   0.,   0.,   0.,   0.,   0.,   0.,   0.,\n",
       "          0.,   0.,   0.,   0.,   0.,   0.,   0.,   0.,   1.,   0.,   0.,\n",
       "          0.,   0.,   0.,   0.,   0.,   0.,   0.,   0.,   0.,   0.,   0.,\n",
       "          0.,   0.,   0.,   0.,   0.,   0.,   1.,   0.,   0.,   1.,   0.,\n",
       "          0.,   0.,   0.,   0.,   0.,   1.,   0.,   0.,   0.,   0.,   0.,\n",
       "          0.,   0.,   0.,   0.,   0.,   0.,   0.,   0.,   0.,   0.,   0.,\n",
       "          0.,   0.,   0.,   0.,   0.,   0.,   0.,   0.,   0.,   0.,   0.,\n",
       "          0.,   0.,   0.,   0.,   0.,   0.,   0.,   0.,   0.,   0.,   0.,\n",
       "          0.,   0.,   0.,   0.,   0.,   0.,   0.,   0.,   0.,   0.,   0.,\n",
       "          0.,   0.,   0.,   0.,   0.,   0.,   0.,   0.,   0.,   0.,   0.,\n",
       "          1.,   0.,   0.,   0.,   0.,   0.,   0.,   0.,   0.,   1.,   0.,\n",
       "          0.,   0.,   0.,   0.,   0.,   0.,   0.,   0.,   1.,   0.,   0.,\n",
       "          0.,   0.,   0.,   0.,   0.,   0.,   0.,   0.,   0.,   0.,   0.,\n",
       "          0.,   0.,   0.,   0.,   0.,   0.,   0.,   0.,   0.,   0.,   0.,\n",
       "          0.,   0.,   0.,   0.,   0.,   0.,   0.,   0.,   0.,   0.,   0.,\n",
       "          0.,   0.,   0.,   0.,   0.,   0.,   0.,   0.,   0.,   0.,   0.,\n",
       "          0.,   0.,   0.,   0.,   0.,   0.,   0.,   0.,   0.,   0.,   0.,\n",
       "          0.,   0.,   0.,   0.,   0.,   0.,   0.,   0.,   0.,   0.,   0.,\n",
       "          0.,   0.,   0.,   0.,   0.,   0.,   0.,   0.,   0.,   1.,   0.,\n",
       "          0.,   0.,   0.,   0.,   0.,   0.,   0.,   0.,   0.,   0.,   0.,\n",
       "          0.,   0.,   0.,   0.,   0.,   0.,   0.,   0.,   0.,   0.,   0.,\n",
       "          0.,   0.,   0.,   0.,   0.,   0.,   0.,   0.,   0.,   0.,   0.,\n",
       "          1.,   0.,   0.,   0.,   0.,   0.,   0.,   0.,   0.,   0.,   0.,\n",
       "          0.,   1.,   0.,   0.,   0.,   0.,   0.,   0.,   0.,   0.,   0.,\n",
       "          0.,   0.,   0.,   0.,   0.,   0.,   0.,   0.,   0.,   0.,   0.,\n",
       "          0.,   0.,   0.,   0.,   0.,   0.,   0.,   0.,   0.,   0.,   0.,\n",
       "          0.,   0.,   0.,   0.,   0.,   0.,   0.,   0.,   0.,   0.,   0.,\n",
       "          0.,   0.,   0.,   0.,   0.,   0.,   0.,   0.,   0.,   0.,   0.,\n",
       "          0.,   0.,   0.,   0.,   0.,   0.,   0.,   0.,   0.,   0.,   0.,\n",
       "          0.,   0.,   0.,   0.,   0.,   0.,   0.,   0.,   0.,   0.,   0.,\n",
       "          0.,   0.,   0.,   0.,   0.,   0.,   0.,   0.,   0.,   0.,   0.,\n",
       "          0.,   0.,   0.,   0.,   0.,   0.,   0.,   0.,   0.,   0.,   0.,\n",
       "          0.,   0.,   0.,   0.,   0.,   0.,   0.,   0.,   0.,   0.,   1.,\n",
       "          0.,   0.,   1.,   0.,   0.,   0.,   0.,   0.,   0.,   0.,   0.,\n",
       "          0.,   0.,   0.,   0.,   0.,   0.,   0.,   1.,   0.,   0.,   0.,\n",
       "          0.,   0.,   0.,   0.,   0.,   0.,   0.,   0.,   0.,   0.,   0.,\n",
       "          0.,   0.,   0.,   0.,   0.,   0.,   0.,   0.,   0.,   0.,   0.,\n",
       "          0.,   0.,   0.,   0.,   0.,   0.,   0.,   0.,   0.,   0.,   0.,\n",
       "          0.,   0.,   0.,   0.,   0.,   0.,   0.,   0.,   0.,   0.,   0.,\n",
       "          0.,   0.,   0.,   0.,   0.,   0.,   0.,   0.,   0.,   0.,   0.,\n",
       "          0.,   0.,   0.,   0.,   0.,   0.,   0.,   0.,   0.,   0.,   0.,\n",
       "          0.,   0.,   0.,   0.,   0.,   0.,   0.,   0.,   0.,   0.,   0.,\n",
       "          0.,   0.,   0.,   0.,   0.,   0.,   0.,   0.,   0.,   0.,   0.,\n",
       "          0.,   0.,   0.,   0.,   0.,   0.,   0.,   0.,   0.,   0.,   0.,\n",
       "          0.,   0.,   0.,   0.,   0.,   0.,   0.,   0.,   0.,   0.,   0.,\n",
       "          0.,   0.,   0.,   0.,   0.,   0.,   0.,   0.,   0.,   0.,   0.,\n",
       "          0.,   0.,   0.,   0.,   0.,   0.,   0.,   0.,   0.,   0.,   0.,\n",
       "          0.,   1.,   0.,   0.,   0.,   0.,   0.,   0.,   0.,   0.,   0.,\n",
       "          0.,   0.,   0.,   0.,   0.,   0.,   0.,   0.,   0.,   0.,   0.,\n",
       "          0.,   0.,   0.,   0.,   0.,   0.,   0.,   0.,   0.,   0.,   0.,\n",
       "          0.,   0.,   0.,   0.,   0.,   0.,   0.,   0.,   0.,   0.,   0.,\n",
       "          0.,   0.,   0.,   0.,   0.,   0.,   0.,   0.,   0.,   0.,   0.,\n",
       "          1.,   0.,   0.,   0.,   0.,   0.,   0.,   0.,   0.,   0.,   0.,\n",
       "          0.,   0.,   0.,   0.,   0.,   0.,   0.,   0.,   0.,   0.,   0.,\n",
       "          1.,   0.,   0.,   0.,   0.,   0.,   0.,   0.,   0.,   0.,   0.,\n",
       "          0.,   0.,   0.,   0.,   0.,   0.,   0.,   0.,   0.,   0.,   0.,\n",
       "          0.,   0.,   0.,   0.,   0.,   0.,   0.,   0.,   0.,   0.,   0.,\n",
       "          0.,   0.,   0.,   0.,   0.,   0.,   0.,   0.,   0.,   0.,   0.,\n",
       "          0.,   0.,   0.,   0.,   0.,   0.,   0.,   0.,   0.,   0.,   0.,\n",
       "          0.,   0.,   0.,   0.,   0.,   0.,   0.,   0.,   0.,   0.,   0.,\n",
       "          0.,   0.,   0.,   0.,   0.,   0.,   0.,   0.,   0.,   0.,   0.,\n",
       "          0.,   0.,   0.,   0.,   0.,   0.,   0.,   0.,   0.,   0.,   0.,\n",
       "          0.,   0.,   0.,   0.,   0.,   0.,   0.,   0.,   0.,   0.,   0.,\n",
       "          0.,   0.,   0.,   0.,   0.,   0.,   0.,   0.,   0.,   0.,   0.,\n",
       "          0.,   0.,   0.,   0.,   0.,   0.,   0.,   0.,   0.,   0.,   0.,\n",
       "          0.,   0.,   0.,   0.,   0.,   0.,   0.,   0.,   0.,   0.,   0.,\n",
       "          0.,   0.,   0.,   0.,   0.,   0.,   0.,   0.,   0.,   0.,   0.,\n",
       "          0.,   0.,   0.,   0.,   0.,   0.,   0.,   0.,   0.,   0.,   0.,\n",
       "          0.,   0.,   0.,   0.,   0.,   0.,   0.,   0.,   0.,   0.,   0.,\n",
       "          0.,   0.,   0.,   0.,   0.,   0.,   0.,   0.,   0.,   0.,   0.,\n",
       "          0.,   0.,   0.,   0.,   0.,   0.,   0.,   0.,   0.,   1.]),\n",
       " array([1.51817243e+20, 1.40457525e+23, 2.80763234e+23, ...,\n",
       "        1.40025249e+26, 1.40165554e+26, 1.40305860e+26]),\n",
       " <a list of 1000 Patch objects>)"
      ]
     },
     "execution_count": 44,
     "metadata": {},
     "output_type": "execute_result"
    },
    {
     "data": {
      "image/png": "[encoded data removed]",
      "text/plain": [
       "<Figure size 432x288 with 1 Axes>"
      ]
     },
     "metadata": {
      "needs_background": "light"
     },
     "output_type": "display_data"
    }
   ],
   "source": [
    "total_data = []\n",
    "for i in data:\n",
    "    total_data += list(i)\n",
    "total_data = np.array(total_data)\n",
    "plt.hist(total_data, bins=len(total_data))"
   ]
  },
  {
   "cell_type": "code",
   "execution_count": null,
   "metadata": {},
   "outputs": [],
   "source": [
    "# Calculate corresponding Expected Values and 5%, 25%, 75%, 95% Quantiles"
   ]
  },
  {
   "cell_type": "code",
   "execution_count": null,
   "metadata": {},
   "outputs": [],
   "source": []
  },
  {
   "cell_type": "code",
   "execution_count": null,
   "metadata": {},
   "outputs": [],
   "source": []
  }
 ],
 "metadata": {
  "kernelspec": {
   "display_name": "Python 3",
   "language": "python",
   "name": "python3"
  },
  "language_info": {
   "codemirror_mode": {
    "name": "ipython",
    "version": 3
   },
   "file_extension": ".py",
   "mimetype": "text/x-python",
   "name": "python",
   "nbconvert_exporter": "python",
   "pygments_lexer": "ipython3",
   "version": "3.6.7"
  }
 },
 "nbformat": 4,
 "nbformat_minor": 2
}

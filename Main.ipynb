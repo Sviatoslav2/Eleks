{
 "cells": [
  {
   "cell_type": "code",
   "execution_count": 1,
   "metadata": {},
   "outputs": [],
   "source": [
    "import numpy as np\n",
    "\n",
    "import seaborn as sns\n",
    "from mimesis import Person\n",
    "from mimesis.providers.payment import Payment\n",
    "from mimesis.enums import Gender, CardType\n",
    "from data_requirements import *\n",
    "from matplotlib import pyplot as plt \n",
    "from data_transformation import *"
   ]
  },
  {
   "cell_type": "code",
   "execution_count": 2,
   "metadata": {},
   "outputs": [
    {
     "name": "stdout",
     "output_type": "stream",
     "text": [
      "[('0000000000000000', 'Dorotha Mcclain', '4137 9141 7776 3174', '01/23', 'F', '31032.994249370044')\n",
      " ('0000000000000001', 'Candra Dyer', '4443 9074 3915 0007', '11/24', 'F', '41046.58442914038')\n",
      " ('0000000000000002', 'Cyrus Knapp', '4009 6360 8377 8351', '04/25', 'M', '46049.40901059186')\n",
      " ...\n",
      " ('0000000000009997', 'Kandace Bernard', '4470 7865 0083 4285', '08/25', 'F', '10008.736986048307')\n",
      " ('0000000000009998', 'Delmar Vincent', '4952 4834 5348 6209', '01/22', 'M', '6004.631078314692')\n",
      " ('0000000000009999', 'Roselle Santiago', '4813 4435 4546 1577', '03/24', 'F', '23017.359356568228')]\n"
     ]
    }
   ],
   "source": [
    "class DataGenerator:\n",
    "    @staticmethod\n",
    "    def generate_personal_data(num_records, seed):\n",
    "        person = Person('en',seed=seed)\n",
    "        payment = Payment(seed=seed)\n",
    "\n",
    "        dtype = np.dtype([\n",
    "            ('id', np.unicode_, 16),\n",
    "            ('full_name', np.unicode_, 32),\n",
    "            ('credit_card_number', np.unicode_, 32),\n",
    "            ('credit_card_expiration_date', np.unicode_, 8),\n",
    "            ('gender', np.unicode_, 1),\n",
    "            ('loan',np.unicode_, 32)\n",
    "        ])\n",
    "        \n",
    "        \n",
    "        \n",
    "        np.random.seed(seed)\n",
    "        \n",
    "        rng = np.random.randint(0, 2, num_records)\n",
    "        loans = get_uniform_loans(1000,100000,1000)\n",
    "        records_npy = np.empty(num_records, dtype=dtype)\n",
    "        \n",
    "        for idx in range(num_records):\n",
    "            if rng[idx] == 0:\n",
    "                gender = Gender.MALE\n",
    "            else:    \n",
    "                gender = Gender.FEMALE\n",
    "            records_npy['id'][idx] = str('{:016d}'.format(idx))\n",
    "            records_npy['full_name'][idx] = person.full_name(gender=gender)\n",
    "            records_npy['credit_card_number'][idx] = payment.credit_card_number(card_type=CardType.VISA)\n",
    "            records_npy['credit_card_expiration_date'][idx] = payment.credit_card_expiration_date(minimum=20,maximum=25)\n",
    "            records_npy['gender'][idx] = 'M' if rng[idx] == 0 else 'F'\n",
    "            if idx < len(loans) - 1:\n",
    "                records_npy['loan'][idx] = loans[idx]\n",
    "            else:\n",
    "                records_npy['loan'][idx] = np.random.choice(loans)        \n",
    "        records_npy = records_npy[:num_records]\n",
    "        \n",
    "        number, same_nameId = uniform_rec_id(records_npy, rng)\n",
    "        name = get_name(records_npy['full_name'], same_nameId)\n",
    "        \n",
    "        for idx in same_nameId:\n",
    "            records_npy['full_name'][idx] = name    \n",
    "        return records_npy, name\n",
    "if __name__ == '__main__':\n",
    "    data, name = DataGenerator.generate_personal_data(10000,1)\n",
    "    print(data)"
   ]
  },
  {
   "cell_type": "markdown",
   "metadata": {},
   "source": [
    "## Data generation"
   ]
  },
  {
   "cell_type": "markdown",
   "metadata": {},
   "source": [
    "## Data data exploration"
   ]
  },
  {
   "cell_type": "code",
   "execution_count": 3,
   "metadata": {},
   "outputs": [
    {
     "data": {
      "text/plain": [
       "array([('0000000000000000', 'Luvenia Wiley', '4331 2601 8159 0839', '01/20', 'F', '89100.54008423086'),\n",
       "       ('0000000000000001', 'Dirk Heath', '4444 6131 8609 1399', '01/24', 'M', '3002.1631493278883'),\n",
       "       ('0000000000000002', 'Berry Blackwell', '4599 6030 8246 2813', '10/22', 'F', '99110.10862637371'),\n",
       "       ...,\n",
       "       ('0000000000049997', 'Oscar Barnes', '4417 0545 1120 1481', '01/22', 'M', '90100.72236567838'),\n",
       "       ('0000000000049998', 'Donovan Dorsey', '4889 9985 1750 2863', '08/24', 'M', '22023.39431006226'),\n",
       "       ('0000000000049999', 'Dan Middleton', '4965 9692 0665 7273', '12/20', 'F', '4004.6655962569407')],\n",
       "      dtype=[('id', '<U16'), ('full_name', '<U32'), ('credit_card_number', '<U32'), ('credit_card_expiration_date', '<U8'), ('gender', '<U1'), ('loan', '<U32')])"
      ]
     },
     "execution_count": 3,
     "metadata": {},
     "output_type": "execute_result"
    }
   ],
   "source": [
    "SEED = 7\n",
    "num_records = 50000\n",
    "data, name = DataGenerator.generate_personal_data(num_records,SEED)\n",
    "data"
   ]
  },
  {
   "cell_type": "markdown",
   "metadata": {},
   "source": [
    "## loan - a random floating point number uniformly distributed in the range between 1000 and 100000 and minimum step 1000"
   ]
  },
  {
   "cell_type": "code",
   "execution_count": 4,
   "metadata": {},
   "outputs": [
    {
     "data": {
      "text/plain": [
       "[Text(0, 0.5, 'Frequency'), Text(0.5, 0, 'Uniform ')]"
      ]
     },
     "execution_count": 4,
     "metadata": {},
     "output_type": "execute_result"
    },
    {
     "data": {
      "image/png": "[encoded data removed]",
      "text/plain": [
       "<Figure size 432x288 with 1 Axes>"
      ]
     },
     "metadata": {
      "needs_background": "light"
     },
     "output_type": "display_data"
    }
   ],
   "source": [
    "# to show you requirements\n",
    "loans = np.array([float(i) for i in data['loan']])\n",
    "ax = sns.distplot(loans,\n",
    "                  bins=1000,\n",
    "                  kde=False,\n",
    "                  color='skyblue',\n",
    "                  hist_kws={\"linewidth\": 15,'alpha':1})\n",
    "ax.set(xlabel='Uniform ', ylabel='Frequency')"
   ]
  },
  {
   "cell_type": "markdown",
   "metadata": {},
   "source": [
    "## There should be up to 12 records with the same full_name while the other data can be different. A particular number of such records should be uniformly distributed"
   ]
  },
  {
   "cell_type": "code",
   "execution_count": 5,
   "metadata": {},
   "outputs": [
    {
     "data": {
      "text/plain": [
       "[Text(0, 0.5, 'Frequency'),\n",
       " Text(0.5, 0, 'Number of records with the same full_name')]"
      ]
     },
     "execution_count": 5,
     "metadata": {},
     "output_type": "execute_result"
    },
    {
     "data": {
      "image/png": "[encoded data removed]",
      "text/plain": [
       "<Figure size 432x288 with 1 Axes>"
      ]
     },
     "metadata": {
      "needs_background": "light"
     },
     "output_type": "display_data"
    }
   ],
   "source": [
    "numbers_occurred = []\n",
    "for i in range(1,18):\n",
    "    data1, name = DataGenerator.generate_personal_data(100,i)\n",
    "    number = len([i for i in data1['full_name'] if i == name])\n",
    "    numbers_occurred.append(number)\n",
    "    \n",
    "ax = sns.distplot(numbers_occurred,\n",
    "                  bins=17,\n",
    "                  kde=False,\n",
    "                  color='skyblue',\n",
    "                  hist_kws={\"linewidth\": 15,'alpha':1})\n",
    "ax.set(xlabel=\"Number of records with the same full_name\", ylabel='Frequency')    "
   ]
  },
  {
   "cell_type": "markdown",
   "metadata": {},
   "source": [
    "## Save to  file "
   ]
  },
  {
   "cell_type": "code",
   "execution_count": 6,
   "metadata": {},
   "outputs": [],
   "source": [
    "data_path_in, id_file = data_save(data, SEED,\"\")\n",
    "data_path_out = \"MappedInputData_\" + id_file + \".csv\""
   ]
  },
  {
   "cell_type": "markdown",
   "metadata": {},
   "source": [
    "## Data extraction, transformation and validation"
   ]
  },
  {
   "cell_type": "code",
   "execution_count": 7,
   "metadata": {},
   "outputs": [],
   "source": [
    "# Read data from text\n",
    "dtypeFromFile = {'names': ('id',\n",
    "                           'full_name',\n",
    "                           'credit_card_number',\n",
    "                           'credit_card_expiration_date',\n",
    "                           'gender',\n",
    "                           'loan'),\n",
    "                 'formats':('|S16',\n",
    "                            '|S32',\n",
    "                            '|S32',\n",
    "                            '|S8',\n",
    "                            '|S1',\n",
    "                            '|S32')}\n",
    "                 \n",
    "dataFromFile = np.loadtxt(data_path_in, dtype=dtypeFromFile, delimiter=',')"
   ]
  },
  {
   "cell_type": "code",
   "execution_count": 8,
   "metadata": {},
   "outputs": [
    {
     "name": "stdout",
     "output_type": "stream",
     "text": [
      "Chase Marshall\n"
     ]
    },
    {
     "data": {
      "text/plain": [
       "[10]"
      ]
     },
     "execution_count": 8,
     "metadata": {},
     "output_type": "execute_result"
    }
   ],
   "source": [
    "# For 2 Stage I use part of data from 1 Stage\n",
    "records = records_array(dataFromFile, SEED)   \n",
    "print(records.get_name(10))\n",
    "records.get_id('Chase Marshall')"
   ]
  },
  {
   "cell_type": "code",
   "execution_count": 9,
   "metadata": {},
   "outputs": [
    {
     "data": {
      "text/plain": [
       "array([    0,     1,     2, ..., 49997, 49998, 49999])"
      ]
     },
     "execution_count": 9,
     "metadata": {},
     "output_type": "execute_result"
    }
   ],
   "source": [
    "records.data['user_id']"
   ]
  },
  {
   "cell_type": "code",
   "execution_count": 10,
   "metadata": {},
   "outputs": [
    {
     "data": {
      "text/plain": [
       "array([0, 1, 0, ..., 1, 1, 0], dtype=int16)"
      ]
     },
     "execution_count": 10,
     "metadata": {},
     "output_type": "execute_result"
    }
   ],
   "source": [
    "records.data['gender']"
   ]
  },
  {
   "cell_type": "code",
   "execution_count": 11,
   "metadata": {},
   "outputs": [
    {
     "data": {
      "text/plain": [
       "array([[2020,    1,   31],\n",
       "       [2024,    1,   31],\n",
       "       [2022,   10,   31],\n",
       "       ...,\n",
       "       [2022,    1,   31],\n",
       "       [2024,    8,   31],\n",
       "       [2020,   12,   31]], dtype=int16)"
      ]
     },
     "execution_count": 11,
     "metadata": {},
     "output_type": "execute_result"
    }
   ],
   "source": [
    "records.data['expiration_date']"
   ]
  },
  {
   "cell_type": "code",
   "execution_count": 12,
   "metadata": {},
   "outputs": [
    {
     "data": {
      "text/plain": [
       "array([[11012.46315187, 82090.68555835, 10011.63517138, ...,\n",
       "        95105.03172516, 78088.81966525,  4004.73932993],\n",
       "       [11012.46315187, 34043.58706395, 22025.66319073, ...,\n",
       "        72079.35665887, 20024.86413886, 77081.51151132],\n",
       "       [36045.2068162 , 78088.81966525, 66071.09073205, ...,\n",
       "        33039.33720038, 44054.6510783 , 58067.18803837],\n",
       "       ...,\n",
       "       [72079.35665887, 16021.8401458 , 37045.278996  , ...,\n",
       "        87097.3725392 , 66071.09073205, 62070.16778499],\n",
       "       [ 4004.73932993,  3002.16314933, 25030.96066948, ...,\n",
       "        33039.33720038, 60069.47933044, 22025.66319073],\n",
       "       [52062.85447702,  3002.16314933, 23028.67359269, ...,\n",
       "        11012.46315187, 91101.28301904,  3002.16314933]])"
      ]
     },
     "execution_count": 12,
     "metadata": {},
     "output_type": "execute_result"
    }
   ],
   "source": [
    "records.data['loan'] "
   ]
  },
  {
   "cell_type": "markdown",
   "metadata": {},
   "source": [
    "## Validation"
   ]
  },
  {
   "cell_type": "code",
   "execution_count": 13,
   "metadata": {},
   "outputs": [],
   "source": [
    "unique, index, count = np.unique(dataFromFile, \n",
    "                          return_index=True,\n",
    "                          return_counts=True, axis=0)"
   ]
  },
  {
   "cell_type": "code",
   "execution_count": 14,
   "metadata": {},
   "outputs": [],
   "source": [
    "invalid_records = unique[count > 10]"
   ]
  },
  {
   "cell_type": "code",
   "execution_count": 15,
   "metadata": {},
   "outputs": [],
   "source": [
    "invalid_user_list = np.array([records.get_name(i) for i in index[count > 10]])"
   ]
  },
  {
   "cell_type": "code",
   "execution_count": 16,
   "metadata": {},
   "outputs": [],
   "source": [
    "invalid_index = index[count > 10]"
   ]
  },
  {
   "cell_type": "code",
   "execution_count": 17,
   "metadata": {},
   "outputs": [],
   "source": [
    "for idx in invalid_index:\n",
    "    records.remouve_row(idx)"
   ]
  },
  {
   "cell_type": "code",
   "execution_count": 18,
   "metadata": {},
   "outputs": [
    {
     "data": {
      "text/plain": [
       "array([(    0, 0, [2020,    1,   31], [11012.46315187, 82090.68555835, 10011.63517138, 40050.49315993, 26031.58598496, 43053.90488111, 72079.35665887, 95105.03172516, 78088.81966525,  4004.73932993]),\n",
       "       (    1, 1, [2024,    1,   31], [11012.46315187, 34043.58706395, 22025.66319073, 98108.38660983, 95105.03172516, 40050.49315993, 61069.75009672, 72079.35665887, 20024.86413886, 77081.51151132]),\n",
       "       (    2, 0, [2022,   10,   31], [36045.2068162 , 78088.81966525, 66071.09073205, 52062.85447702, 11012.46315187, 39048.68635454, 73080.27190419, 33039.33720038, 44054.6510783 , 58067.18803837]),\n",
       "       ...,\n",
       "       (49997, 1, [2022,    1,   31], [72079.35665887, 16021.8401458 , 37045.278996  , 19024.35803841, 25030.96066948, 27031.67720383, 84092.81619157, 87097.3725392 , 66071.09073205, 62070.16778499]),\n",
       "       (49998, 1, [2024,    8,   31], [ 4004.73932993,  3002.16314933, 25030.96066948, 29034.70849542, 10011.63517138, 13019.51374347, 49061.09364297, 33039.33720038, 60069.47933044, 22025.66319073]),\n",
       "       (49999, 0, [2020,   12,   31], [52062.85447702,  3002.16314933, 23028.67359269, 28034.23024801, 80090.42248919, 29034.70849542, 31038.31861618, 11012.46315187, 91101.28301904,  3002.16314933])],\n",
       "      dtype=[('user_id', '<i4'), ('gender', '<i2'), ('expiration_date', '<i2', (3,)), ('loan', '<f8', (10,))])"
      ]
     },
     "execution_count": 18,
     "metadata": {},
     "output_type": "execute_result"
    }
   ],
   "source": [
    "records.data"
   ]
  },
  {
   "cell_type": "code",
   "execution_count": 19,
   "metadata": {},
   "outputs": [
    {
     "data": {
      "text/plain": [
       "array([[11012.46315187, 82090.68555835, 10011.63517138, ...,\n",
       "        95105.03172516, 78088.81966525,  4004.73932993],\n",
       "       [11012.46315187, 34043.58706395, 22025.66319073, ...,\n",
       "        72079.35665887, 20024.86413886, 77081.51151132],\n",
       "       [36045.2068162 , 78088.81966525, 66071.09073205, ...,\n",
       "        33039.33720038, 44054.6510783 , 58067.18803837],\n",
       "       ...,\n",
       "       [72079.35665887, 16021.8401458 , 37045.278996  , ...,\n",
       "        87097.3725392 , 66071.09073205, 62070.16778499],\n",
       "       [ 4004.73932993,  3002.16314933, 25030.96066948, ...,\n",
       "        33039.33720038, 60069.47933044, 22025.66319073],\n",
       "       [52062.85447702,  3002.16314933, 23028.67359269, ...,\n",
       "        11012.46315187, 91101.28301904,  3002.16314933]])"
      ]
     },
     "execution_count": 19,
     "metadata": {},
     "output_type": "execute_result"
    }
   ],
   "source": [
    "records.data['loan']"
   ]
  },
  {
   "cell_type": "code",
   "execution_count": 20,
   "metadata": {},
   "outputs": [
    {
     "data": {
      "text/plain": [
       "<data_transformation.records_array at 0x2837bc4b828>"
      ]
     },
     "execution_count": 20,
     "metadata": {},
     "output_type": "execute_result"
    }
   ],
   "source": [
    "loans_dict = get_loans(records)\n",
    "rewrite_loans(records, loans_dict)"
   ]
  },
  {
   "cell_type": "code",
   "execution_count": 21,
   "metadata": {},
   "outputs": [
    {
     "data": {
      "text/plain": [
       "array([(    0, 0, [2020,    1,   31], [63952387.41950694, 63530966.81564663, 64087671.91437761, 62852370.94051827, 63598006.8018615 , 65183891.6602595 , 65134595.54847924, 64085558.45355438, 66644302.56356726, 63158565.21689467]),\n",
       "       (    1, 1, [2024,    1,   31], [84336957.94451419, 86650529.487753  , 86301039.82316232, 87278087.23212501, 86017669.98593122, 84769407.23364604, 85168954.60078454, 86686516.12448783, 84988751.22737978, 86001767.48059218]),\n",
       "       (    2, 0, [2022,   10,   31], [88975261.65505362, 88777809.30961761, 89550930.77588935, 89949349.4392019 , 89926143.86001046, 88390692.69617292, 89217317.681822  , 89558906.1436581 , 91271778.56597061, 87583513.85354848]),\n",
       "       ...,\n",
       "       (49997, 1, [2022,    1,   31], [ 7866978.29378902,  8372569.14531297,  7577748.08396999,  8299514.98587508,  8486747.78108062,  8252492.77452137,  8156435.31249073,  8554741.29066491,  7843979.90211925,  7472588.10420491]),\n",
       "       (49998, 1, [2024,    8,   31], [14878080.37325052, 16273600.82741957, 14992261.89241285, 15794154.07457364, 14910233.08075136, 15465695.36126863, 15940232.9681915 , 15012289.23631852, 14963246.10972482, 14547761.65849614]),\n",
       "       (49999, 0, [2020,   12,   31], [38449359.47713596, 40113924.55871173, 38108930.59406469, 39772512.81846529, 39434229.99458152, 38783620.85759241, 40864888.12239434, 40253076.61629539, 39381138.2031402 , 39010894.60655586])],\n",
       "      dtype=[('user_id', '<i4'), ('gender', '<i2'), ('expiration_date', '<i2', (3,)), ('loan', '<f8', (10,))])"
      ]
     },
     "execution_count": 21,
     "metadata": {},
     "output_type": "execute_result"
    }
   ],
   "source": [
    "records.data"
   ]
  },
  {
   "cell_type": "code",
   "execution_count": 22,
   "metadata": {},
   "outputs": [],
   "source": [
    "np.savetxt(data_path_out, records.data, delimiter=',',fmt=('%16s', '%16s', '%32s', '%32s'),\n",
    "           header='user_id gender expiration_date loan')"
   ]
  },
  {
   "cell_type": "markdown",
   "metadata": {},
   "source": [
    "## Simulation and Analysis"
   ]
  },
  {
   "cell_type": "code",
   "execution_count": 23,
   "metadata": {},
   "outputs": [],
   "source": [
    "from data_calculation import *"
   ]
  },
  {
   "cell_type": "code",
   "execution_count": 24,
   "metadata": {},
   "outputs": [
    {
     "name": "stderr",
     "output_type": "stream",
     "text": [
      "C:\\Users\\Admin\\Desktop\\AI\\ML\\Eleks\\data_calculation.py:19: RuntimeWarning: overflow encountered in double_scalars\n",
      "  return prev *  payment_rate  * mortality\n"
     ]
    },
    {
     "data": {
      "text/plain": [
       "array([[44535060.79648936, 44173589.43868553, 43547157.2787296 ,\n",
       "        43659218.77291144, 43160605.08295467, 45199729.75395335,\n",
       "        44306930.64326985, 45626299.8963147 , 43699188.65156374,\n",
       "        44641313.35339984],\n",
       "       [              inf,               inf,               inf,\n",
       "                      inf,               inf,               inf,\n",
       "                      inf,               inf,               inf,\n",
       "                      inf],\n",
       "       [              inf,               inf,               inf,\n",
       "                      inf,               inf,               inf,\n",
       "                      inf,               inf,               inf,\n",
       "                      inf],\n",
       "       [              inf,               inf,               inf,\n",
       "                      inf,               inf,               inf,\n",
       "                      inf,               inf,               inf,\n",
       "                      inf],\n",
       "       [              inf,               inf,               inf,\n",
       "                      inf,               inf,               inf,\n",
       "                      inf,               inf,               inf,\n",
       "                      inf],\n",
       "       [              inf,               inf,               inf,\n",
       "                      inf,               inf,               inf,\n",
       "                      inf,               inf,               inf,\n",
       "                      inf],\n",
       "       [              inf,               inf,               inf,\n",
       "                      inf,               inf,               inf,\n",
       "                      inf,               inf,               inf,\n",
       "                      inf],\n",
       "       [              inf,               inf,               inf,\n",
       "                      inf,               inf,               inf,\n",
       "                      inf,               inf,               inf,\n",
       "                      inf],\n",
       "       [              inf,               inf,               inf,\n",
       "                      inf,               inf,               inf,\n",
       "                      inf,               inf,               inf,\n",
       "                      inf],\n",
       "       [              inf,               inf,               inf,\n",
       "                      inf,               inf,               inf,\n",
       "                      inf,               inf,               inf,\n",
       "                      inf],\n",
       "       [              inf,               inf,               inf,\n",
       "                      inf,               inf,               inf,\n",
       "                      inf,               inf,               inf,\n",
       "                      inf],\n",
       "       [              inf,               inf,               inf,\n",
       "                      inf,               inf,               inf,\n",
       "                      inf,               inf,               inf,\n",
       "                      inf],\n",
       "       [              inf,               inf,               inf,\n",
       "                      inf,               inf,               inf,\n",
       "                      inf,               inf,               inf,\n",
       "                      inf],\n",
       "       [              inf,               inf,               inf,\n",
       "                      inf,               inf,               inf,\n",
       "                      inf,               inf,               inf,\n",
       "                      inf],\n",
       "       [              inf,               inf,               inf,\n",
       "                      inf,               inf,               inf,\n",
       "                      inf,               inf,               inf,\n",
       "                      inf],\n",
       "       [              inf,               inf,               inf,\n",
       "                      inf,               inf,               inf,\n",
       "                      inf,               inf,               inf,\n",
       "                      inf],\n",
       "       [              inf,               inf,               inf,\n",
       "                      inf,               inf,               inf,\n",
       "                      inf,               inf,               inf,\n",
       "                      inf],\n",
       "       [              inf,               inf,               inf,\n",
       "                      inf,               inf,               inf,\n",
       "                      inf,               inf,               inf,\n",
       "                      inf],\n",
       "       [              inf,               inf,               inf,\n",
       "                      inf,               inf,               inf,\n",
       "                      inf,               inf,               inf,\n",
       "                      inf],\n",
       "       [              inf,               inf,               inf,\n",
       "                      inf,               inf,               inf,\n",
       "                      inf,               inf,               inf,\n",
       "                      inf],\n",
       "       [              inf,               inf,               inf,\n",
       "                      inf,               inf,               inf,\n",
       "                      inf,               inf,               inf,\n",
       "                      inf],\n",
       "       [              inf,               inf,               inf,\n",
       "                      inf,               inf,               inf,\n",
       "                      inf,               inf,               inf,\n",
       "                      inf],\n",
       "       [              inf,               inf,               inf,\n",
       "                      inf,               inf,               inf,\n",
       "                      inf,               inf,               inf,\n",
       "                      inf],\n",
       "       [              inf,               inf,               inf,\n",
       "                      inf,               inf,               inf,\n",
       "                      inf,               inf,               inf,\n",
       "                      inf],\n",
       "       [              inf,               inf,               inf,\n",
       "                      inf,               inf,               inf,\n",
       "                      inf,               inf,               inf,\n",
       "                      inf],\n",
       "       [              inf,               inf,               inf,\n",
       "                      inf,               inf,               inf,\n",
       "                      inf,               inf,               inf,\n",
       "                      inf],\n",
       "       [              inf,               inf,               inf,\n",
       "                      inf,               inf,               inf,\n",
       "                      inf,               inf,               inf,\n",
       "                      inf],\n",
       "       [              inf,               inf,               inf,\n",
       "                      inf,               inf,               inf,\n",
       "                      inf,               inf,               inf,\n",
       "                      inf],\n",
       "       [              inf,               inf,               inf,\n",
       "                      inf,               inf,               inf,\n",
       "                      inf,               inf,               inf,\n",
       "                      inf],\n",
       "       [              inf,               inf,               inf,\n",
       "                      inf,               inf,               inf,\n",
       "                      inf,               inf,               inf,\n",
       "                      inf],\n",
       "       [              inf,               inf,               inf,\n",
       "                      inf,               inf,               inf,\n",
       "                      inf,               inf,               inf,\n",
       "                      inf],\n",
       "       [              inf,               inf,               inf,\n",
       "                      inf,               inf,               inf,\n",
       "                      inf,               inf,               inf,\n",
       "                      inf],\n",
       "       [              inf,               inf,               inf,\n",
       "                      inf,               inf,               inf,\n",
       "                      inf,               inf,               inf,\n",
       "                      inf],\n",
       "       [              inf,               inf,               inf,\n",
       "                      inf,               inf,               inf,\n",
       "                      inf,               inf,               inf,\n",
       "                      inf],\n",
       "       [              inf,               inf,               inf,\n",
       "                      inf,               inf,               inf,\n",
       "                      inf,               inf,               inf,\n",
       "                      inf],\n",
       "       [              inf,               inf,               inf,\n",
       "                      inf,               inf,               inf,\n",
       "                      inf,               inf,               inf,\n",
       "                      inf],\n",
       "       [              inf,               inf,               inf,\n",
       "                      inf,               inf,               inf,\n",
       "                      inf,               inf,               inf,\n",
       "                      inf],\n",
       "       [              inf,               inf,               inf,\n",
       "                      inf,               inf,               inf,\n",
       "                      inf,               inf,               inf,\n",
       "                      inf],\n",
       "       [              inf,               inf,               inf,\n",
       "                      inf,               inf,               inf,\n",
       "                      inf,               inf,               inf,\n",
       "                      inf],\n",
       "       [              inf,               inf,               inf,\n",
       "                      inf,               inf,               inf,\n",
       "                      inf,               inf,               inf,\n",
       "                      inf],\n",
       "       [              inf,               inf,               inf,\n",
       "                      inf,               inf,               inf,\n",
       "                      inf,               inf,               inf,\n",
       "                      inf],\n",
       "       [              inf,               inf,               inf,\n",
       "                      inf,               inf,               inf,\n",
       "                      inf,               inf,               inf,\n",
       "                      inf],\n",
       "       [              inf,               inf,               inf,\n",
       "                      inf,               inf,               inf,\n",
       "                      inf,               inf,               inf,\n",
       "                      inf],\n",
       "       [              inf,               inf,               inf,\n",
       "                      inf,               inf,               inf,\n",
       "                      inf,               inf,               inf,\n",
       "                      inf],\n",
       "       [              inf,               inf,               inf,\n",
       "                      inf,               inf,               inf,\n",
       "                      inf,               inf,               inf,\n",
       "                      inf],\n",
       "       [              inf,               inf,               inf,\n",
       "                      inf,               inf,               inf,\n",
       "                      inf,               inf,               inf,\n",
       "                      inf],\n",
       "       [              inf,               inf,               inf,\n",
       "                      inf,               inf,               inf,\n",
       "                      inf,               inf,               inf,\n",
       "                      inf],\n",
       "       [              inf,               inf,               inf,\n",
       "                      inf,               inf,               inf,\n",
       "                      inf,               inf,               inf,\n",
       "                      inf],\n",
       "       [              inf,               inf,               inf,\n",
       "                      inf,               inf,               inf,\n",
       "                      inf,               inf,               inf,\n",
       "                      inf],\n",
       "       [              inf,               inf,               inf,\n",
       "                      inf,               inf,               inf,\n",
       "                      inf,               inf,               inf,\n",
       "                      inf],\n",
       "       [              inf,               inf,               inf,\n",
       "                      inf,               inf,               inf,\n",
       "                      inf,               inf,               inf,\n",
       "                      inf],\n",
       "       [              inf,               inf,               inf,\n",
       "                      inf,               inf,               inf,\n",
       "                      inf,               inf,               inf,\n",
       "                      inf],\n",
       "       [              inf,               inf,               inf,\n",
       "                      inf,               inf,               inf,\n",
       "                      inf,               inf,               inf,\n",
       "                      inf],\n",
       "       [              inf,               inf,               inf,\n",
       "                      inf,               inf,               inf,\n",
       "                      inf,               inf,               inf,\n",
       "                      inf],\n",
       "       [              inf,               inf,               inf,\n",
       "                      inf,               inf,               inf,\n",
       "                      inf,               inf,               inf,\n",
       "                      inf],\n",
       "       [              inf,               inf,               inf,\n",
       "                      inf,               inf,               inf,\n",
       "                      inf,               inf,               inf,\n",
       "                      inf],\n",
       "       [              inf,               inf,               inf,\n",
       "                      inf,               inf,               inf,\n",
       "                      inf,               inf,               inf,\n",
       "                      inf],\n",
       "       [              inf,               inf,               inf,\n",
       "                      inf,               inf,               inf,\n",
       "                      inf,               inf,               inf,\n",
       "                      inf],\n",
       "       [              inf,               inf,               inf,\n",
       "                      inf,               inf,               inf,\n",
       "                      inf,               inf,               inf,\n",
       "                      inf],\n",
       "       [              inf,               inf,               inf,\n",
       "                      inf,               inf,               inf,\n",
       "                      inf,               inf,               inf,\n",
       "                      inf],\n",
       "       [              inf,               inf,               inf,\n",
       "                      inf,               inf,               inf,\n",
       "                      inf,               inf,               inf,\n",
       "                      inf],\n",
       "       [              inf,               inf,               inf,\n",
       "                      inf,               inf,               inf,\n",
       "                      inf,               inf,               inf,\n",
       "                      inf],\n",
       "       [              inf,               inf,               inf,\n",
       "                      inf,               inf,               inf,\n",
       "                      inf,               inf,               inf,\n",
       "                      inf],\n",
       "       [              inf,               inf,               inf,\n",
       "                      inf,               inf,               inf,\n",
       "                      inf,               inf,               inf,\n",
       "                      inf],\n",
       "       [              inf,               inf,               inf,\n",
       "                      inf,               inf,               inf,\n",
       "                      inf,               inf,               inf,\n",
       "                      inf],\n",
       "       [              inf,               inf,               inf,\n",
       "                      inf,               inf,               inf,\n",
       "                      inf,               inf,               inf,\n",
       "                      inf],\n",
       "       [              inf,               inf,               inf,\n",
       "                      inf,               inf,               inf,\n",
       "                      inf,               inf,               inf,\n",
       "                      inf],\n",
       "       [              inf,               inf,               inf,\n",
       "                      inf,               inf,               inf,\n",
       "                      inf,               inf,               inf,\n",
       "                      inf],\n",
       "       [              inf,               inf,               inf,\n",
       "                      inf,               inf,               inf,\n",
       "                      inf,               inf,               inf,\n",
       "                      inf],\n",
       "       [              inf,               inf,               inf,\n",
       "                      inf,               inf,               inf,\n",
       "                      inf,               inf,               inf,\n",
       "                      inf],\n",
       "       [              inf,               inf,               inf,\n",
       "                      inf,               inf,               inf,\n",
       "                      inf,               inf,               inf,\n",
       "                      inf],\n",
       "       [              inf,               inf,               inf,\n",
       "                      inf,               inf,               inf,\n",
       "                      inf,               inf,               inf,\n",
       "                      inf],\n",
       "       [              inf,               inf,               inf,\n",
       "                      inf,               inf,               inf,\n",
       "                      inf,               inf,               inf,\n",
       "                      inf],\n",
       "       [              inf,               inf,               inf,\n",
       "                      inf,               inf,               inf,\n",
       "                      inf,               inf,               inf,\n",
       "                      inf],\n",
       "       [              inf,               inf,               inf,\n",
       "                      inf,               inf,               inf,\n",
       "                      inf,               inf,               inf,\n",
       "                      inf],\n",
       "       [              inf,               inf,               inf,\n",
       "                      inf,               inf,               inf,\n",
       "                      inf,               inf,               inf,\n",
       "                      inf],\n",
       "       [              inf,               inf,               inf,\n",
       "                      inf,               inf,               inf,\n",
       "                      inf,               inf,               inf,\n",
       "                      inf],\n",
       "       [              inf,               inf,               inf,\n",
       "                      inf,               inf,               inf,\n",
       "                      inf,               inf,               inf,\n",
       "                      inf],\n",
       "       [              inf,               inf,               inf,\n",
       "                      inf,               inf,               inf,\n",
       "                      inf,               inf,               inf,\n",
       "                      inf],\n",
       "       [              inf,               inf,               inf,\n",
       "                      inf,               inf,               inf,\n",
       "                      inf,               inf,               inf,\n",
       "                      inf],\n",
       "       [              inf,               inf,               inf,\n",
       "                      inf,               inf,               inf,\n",
       "                      inf,               inf,               inf,\n",
       "                      inf],\n",
       "       [              inf,               inf,               inf,\n",
       "                      inf,               inf,               inf,\n",
       "                      inf,               inf,               inf,\n",
       "                      inf],\n",
       "       [              inf,               inf,               inf,\n",
       "                      inf,               inf,               inf,\n",
       "                      inf,               inf,               inf,\n",
       "                      inf],\n",
       "       [              inf,               inf,               inf,\n",
       "                      inf,               inf,               inf,\n",
       "                      inf,               inf,               inf,\n",
       "                      inf],\n",
       "       [              inf,               inf,               inf,\n",
       "                      inf,               inf,               inf,\n",
       "                      inf,               inf,               inf,\n",
       "                      inf],\n",
       "       [              inf,               inf,               inf,\n",
       "                      inf,               inf,               inf,\n",
       "                      inf,               inf,               inf,\n",
       "                      inf],\n",
       "       [              inf,               inf,               inf,\n",
       "                      inf,               inf,               inf,\n",
       "                      inf,               inf,               inf,\n",
       "                      inf],\n",
       "       [              inf,               inf,               inf,\n",
       "                      inf,               inf,               inf,\n",
       "                      inf,               inf,               inf,\n",
       "                      inf],\n",
       "       [              inf,               inf,               inf,\n",
       "                      inf,               inf,               inf,\n",
       "                      inf,               inf,               inf,\n",
       "                      inf],\n",
       "       [              inf,               inf,               inf,\n",
       "                      inf,               inf,               inf,\n",
       "                      inf,               inf,               inf,\n",
       "                      inf],\n",
       "       [              inf,               inf,               inf,\n",
       "                      inf,               inf,               inf,\n",
       "                      inf,               inf,               inf,\n",
       "                      inf],\n",
       "       [              inf,               inf,               inf,\n",
       "                      inf,               inf,               inf,\n",
       "                      inf,               inf,               inf,\n",
       "                      inf],\n",
       "       [              inf,               inf,               inf,\n",
       "                      inf,               inf,               inf,\n",
       "                      inf,               inf,               inf,\n",
       "                      inf],\n",
       "       [              inf,               inf,               inf,\n",
       "                      inf,               inf,               inf,\n",
       "                      inf,               inf,               inf,\n",
       "                      inf],\n",
       "       [              inf,               inf,               inf,\n",
       "                      inf,               inf,               inf,\n",
       "                      inf,               inf,               inf,\n",
       "                      inf],\n",
       "       [              inf,               inf,               inf,\n",
       "                      inf,               inf,               inf,\n",
       "                      inf,               inf,               inf,\n",
       "                      inf],\n",
       "       [              inf,               inf,               inf,\n",
       "                      inf,               inf,               inf,\n",
       "                      inf,               inf,               inf,\n",
       "                      inf],\n",
       "       [              inf,               inf,               inf,\n",
       "                      inf,               inf,               inf,\n",
       "                      inf,               inf,               inf,\n",
       "                      inf],\n",
       "       [              inf,               inf,               inf,\n",
       "                      inf,               inf,               inf,\n",
       "                      inf,               inf,               inf,\n",
       "                      inf]])"
      ]
     },
     "execution_count": 24,
     "metadata": {},
     "output_type": "execute_result"
    }
   ],
   "source": [
    "\n",
    "\n",
    "def get_next_array(array, indx_payment,sum_cur, records, idx):\n",
    "    res = []\n",
    "    gender = records.data['gender'][idx]\n",
    "    expiration_date = records.data['expiration_date'][idx]\n",
    "    sum_cur = np.sum(array)\n",
    "    for prog in range(10):\n",
    "        prev_loan0 = array[prog]\n",
    "        monthly_payment_lst = get_monthly_payment(records, idx, prog,sum_cur) \n",
    "        for i in range(get_projection_number(expiration_date)):\n",
    "            prev_loan0 = loan(sum_cur, prev_loan0, gender, get_payment(prev_loan0, gender, monthly_payment_lst[indx_payment]))\n",
    "        res.append(prev_loan0)\n",
    "    return np.array(res)\n",
    "\n",
    "def get_matrix(records, idx):\n",
    "    sum_cur = np.sum(records.data['loan'][idx])\n",
    "    res = []\n",
    "    for indx_payment in range(100):\n",
    "        if indx_payment == 0:\n",
    "            array = records.data['loan'][idx]\n",
    "        else:\n",
    "            sum_cur = np.sum(array)\n",
    "            res.append(array)\n",
    "            array = get_next_array(array, indx_payment,sum_cur, records, idx)\n",
    "    return np.array(res)        \n",
    "get_matrix(records, 10)        \n",
    "\n",
    "# This task is unclear for me ! =( \n",
    "# But still some functions in data_calculation is usful\n",
    "# get_projection_number(expiration_date) -> projection_number\n",
    "# get_monthly_payment(records, idx, prog) \n",
    "# payment(prev, gender, payment_rate)\n",
    "# loan(curent_sum, prev, gender, payment_rate)\n",
    "\n",
    "\n",
    "\n"
   ]
  },
  {
   "cell_type": "code",
   "execution_count": null,
   "metadata": {},
   "outputs": [],
   "source": []
  },
  {
   "cell_type": "code",
   "execution_count": null,
   "metadata": {},
   "outputs": [],
   "source": []
  },
  {
   "cell_type": "code",
   "execution_count": null,
   "metadata": {},
   "outputs": [],
   "source": []
  },
  {
   "cell_type": "code",
   "execution_count": null,
   "metadata": {},
   "outputs": [],
   "source": []
  },
  {
   "cell_type": "code",
   "execution_count": null,
   "metadata": {},
   "outputs": [],
   "source": []
  },
  {
   "cell_type": "code",
   "execution_count": null,
   "metadata": {},
   "outputs": [],
   "source": []
  },
  {
   "cell_type": "code",
   "execution_count": null,
   "metadata": {},
   "outputs": [],
   "source": []
  }
 ],
 "metadata": {
  "kernelspec": {
   "display_name": "Python 3",
   "language": "python",
   "name": "python3"
  },
  "language_info": {
   "codemirror_mode": {
    "name": "ipython",
    "version": 3
   },
   "file_extension": ".py",
   "mimetype": "text/x-python",
   "name": "python",
   "nbconvert_exporter": "python",
   "pygments_lexer": "ipython3",
   "version": "3.6.7"
  }
 },
 "nbformat": 4,
 "nbformat_minor": 2
}

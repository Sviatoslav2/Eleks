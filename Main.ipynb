{
 "cells": [
  {
   "cell_type": "code",
   "execution_count": 1,
   "metadata": {},
   "outputs": [],
   "source": [
    "import numpy as np\n",
    "\n",
    "import seaborn as sns\n",
    "from mimesis import Person\n",
    "from mimesis.providers.payment import Payment\n",
    "from mimesis.enums import Gender, CardType\n",
    "from data_requirements import *\n",
    "from matplotlib import pyplot as plt \n",
    "from data_transformation import *"
   ]
  },
  {
   "cell_type": "code",
   "execution_count": 2,
   "metadata": {},
   "outputs": [
    {
     "name": "stdout",
     "output_type": "stream",
     "text": [
      "[('0000000000000000', 'Dorotha Mcclain', '4137 9141 7776 3174', '01/23', 'F', '31032.994249370044')\n",
      " ('0000000000000001', 'Candra Dyer', '4443 9074 3915 0007', '11/24', 'F', '41046.58442914038')\n",
      " ('0000000000000002', 'Cyrus Knapp', '4009 6360 8377 8351', '04/25', 'M', '46049.40901059186')\n",
      " ...\n",
      " ('0000000000009997', 'Kandace Bernard', '4470 7865 0083 4285', '08/25', 'F', '10008.736986048307')\n",
      " ('0000000000009998', 'Delmar Vincent', '4952 4834 5348 6209', '01/22', 'M', '6004.631078314692')\n",
      " ('0000000000009999', 'Roselle Santiago', '4813 4435 4546 1577', '03/24', 'F', '23017.359356568228')]\n"
     ]
    }
   ],
   "source": [
    "class DataGenerator:\n",
    "    @staticmethod\n",
    "    def generate_personal_data(num_records, seed):\n",
    "        person = Person('en',seed=seed)\n",
    "        payment = Payment(seed=seed)\n",
    "\n",
    "        dtype = np.dtype([\n",
    "            ('id', np.unicode_, 16),\n",
    "            ('full_name', np.unicode_, 32),\n",
    "            ('credit_card_number', np.unicode_, 32),\n",
    "            ('credit_card_expiration_date', np.unicode_, 8),\n",
    "            ('gender', np.unicode_, 1),\n",
    "            ('loan',np.unicode_, 32)\n",
    "        ])\n",
    "        \n",
    "        \n",
    "        \n",
    "        np.random.seed(seed)\n",
    "        \n",
    "        rng = np.random.randint(0, 2, num_records)\n",
    "        loans = get_uniform_loans(1000,100000,1000)\n",
    "        records_npy = np.empty(num_records, dtype=dtype)\n",
    "        \n",
    "        for idx in range(num_records):\n",
    "            if rng[idx] == 0:\n",
    "                gender = Gender.MALE\n",
    "            else:    \n",
    "                gender = Gender.FEMALE\n",
    "            records_npy['id'][idx] = str('{:016d}'.format(idx))\n",
    "            records_npy['full_name'][idx] = person.full_name(gender=gender)\n",
    "            records_npy['credit_card_number'][idx] = payment.credit_card_number(card_type=CardType.VISA)\n",
    "            records_npy['credit_card_expiration_date'][idx] = payment.credit_card_expiration_date(minimum=20,maximum=25)\n",
    "            records_npy['gender'][idx] = 'M' if rng[idx] == 0 else 'F'\n",
    "            if idx < len(loans) - 1:\n",
    "                records_npy['loan'][idx] = loans[idx]\n",
    "            else:\n",
    "                records_npy['loan'][idx] = np.random.choice(loans)        \n",
    "        records_npy = records_npy[:num_records]\n",
    "        \n",
    "        number, same_nameId = uniform_rec_id(records_npy, rng)\n",
    "        name = get_name(records_npy['full_name'], same_nameId)\n",
    "        \n",
    "        for idx in same_nameId:\n",
    "            records_npy['full_name'][idx] = name    \n",
    "        return records_npy, name\n",
    "if __name__ == '__main__':\n",
    "    data, name = DataGenerator.generate_personal_data(10000,1)\n",
    "    print(data)"
   ]
  },
  {
   "cell_type": "markdown",
   "metadata": {},
   "source": [
    "## Data generation"
   ]
  },
  {
   "cell_type": "markdown",
   "metadata": {},
   "source": [
    "## Data data exploration"
   ]
  },
  {
   "cell_type": "code",
   "execution_count": 3,
   "metadata": {},
   "outputs": [
    {
     "data": {
      "text/plain": [
       "array([('0000000000000000', 'Luvenia Wiley', '4331 2601 8159 0839', '01/20', 'F', '89100.54008423086'),\n",
       "       ('0000000000000001', 'Dirk Heath', '4444 6131 8609 1399', '01/24', 'M', '3002.1631493278883'),\n",
       "       ('0000000000000002', 'Berry Blackwell', '4599 6030 8246 2813', '10/22', 'F', '99110.10862637371'),\n",
       "       ...,\n",
       "       ('0000000000049997', 'Oscar Barnes', '4417 0545 1120 1481', '01/22', 'M', '90100.72236567838'),\n",
       "       ('0000000000049998', 'Donovan Dorsey', '4889 9985 1750 2863', '08/24', 'M', '22023.39431006226'),\n",
       "       ('0000000000049999', 'Dan Middleton', '4965 9692 0665 7273', '12/20', 'F', '4004.6655962569407')],\n",
       "      dtype=[('id', '<U16'), ('full_name', '<U32'), ('credit_card_number', '<U32'), ('credit_card_expiration_date', '<U8'), ('gender', '<U1'), ('loan', '<U32')])"
      ]
     },
     "execution_count": 3,
     "metadata": {},
     "output_type": "execute_result"
    }
   ],
   "source": [
    "SEED = 7\n",
    "num_records = 50000\n",
    "data, name = DataGenerator.generate_personal_data(num_records,SEED)\n",
    "data"
   ]
  },
  {
   "cell_type": "markdown",
   "metadata": {},
   "source": [
    "## loan - a random floating point number uniformly distributed in the range between 1000 and 100000 and minimum step 1000"
   ]
  },
  {
   "cell_type": "code",
   "execution_count": 4,
   "metadata": {},
   "outputs": [
    {
     "data": {
      "text/plain": [
       "[Text(0, 0.5, 'Frequency'), Text(0.5, 0, 'Uniform ')]"
      ]
     },
     "execution_count": 4,
     "metadata": {},
     "output_type": "execute_result"
    },
    {
     "data": {
      "image/png": "[encoded data removed]",
      "text/plain": [
       "<Figure size 432x288 with 1 Axes>"
      ]
     },
     "metadata": {
      "needs_background": "light"
     },
     "output_type": "display_data"
    }
   ],
   "source": [
    "# to show you requirements\n",
    "loans = np.array([float(i) for i in data['loan']])\n",
    "ax = sns.distplot(loans,\n",
    "                  bins=1000,\n",
    "                  kde=False,\n",
    "                  color='skyblue',\n",
    "                  hist_kws={\"linewidth\": 15,'alpha':1})\n",
    "ax.set(xlabel='Uniform ', ylabel='Frequency')"
   ]
  },
  {
   "cell_type": "markdown",
   "metadata": {},
   "source": [
    "## There should be up to 12 records with the same full_name while the other data can be different. A particular number of such records should be uniformly distributed"
   ]
  },
  {
   "cell_type": "code",
   "execution_count": 5,
   "metadata": {},
   "outputs": [
    {
     "data": {
      "text/plain": [
       "[Text(0, 0.5, 'Frequency'),\n",
       " Text(0.5, 0, 'Number of records with the same full_name')]"
      ]
     },
     "execution_count": 5,
     "metadata": {},
     "output_type": "execute_result"
    },
    {
     "data": {
      "image/png": "[encoded data removed]",
      "text/plain": [
       "<Figure size 432x288 with 1 Axes>"
      ]
     },
     "metadata": {
      "needs_background": "light"
     },
     "output_type": "display_data"
    }
   ],
   "source": [
    "numbers_occurred = []\n",
    "for i in range(1,18):\n",
    "    data1, name = DataGenerator.generate_personal_data(100,i)\n",
    "    number = len([i for i in data1['full_name'] if i == name])\n",
    "    numbers_occurred.append(number)\n",
    "    \n",
    "ax = sns.distplot(numbers_occurred,\n",
    "                  bins=17,\n",
    "                  kde=False,\n",
    "                  color='skyblue',\n",
    "                  hist_kws={\"linewidth\": 15,'alpha':1})\n",
    "ax.set(xlabel=\"Number of records with the same full_name\", ylabel='Frequency')    "
   ]
  },
  {
   "cell_type": "markdown",
   "metadata": {},
   "source": [
    "## Save to  file "
   ]
  },
  {
   "cell_type": "code",
   "execution_count": 6,
   "metadata": {},
   "outputs": [],
   "source": [
    "data_path_in, id_file = data_save(data, SEED,\"\")\n",
    "data_path_out = \"MappedInputData_\" + id_file + \".csv\""
   ]
  },
  {
   "cell_type": "markdown",
   "metadata": {},
   "source": [
    "## Data extraction, transformation and validation"
   ]
  },
  {
   "cell_type": "code",
   "execution_count": 7,
   "metadata": {},
   "outputs": [],
   "source": [
    "# Read data from text\n",
    "dtypeFromFile = {'names': ('id',\n",
    "                           'full_name',\n",
    "                           'credit_card_number',\n",
    "                           'credit_card_expiration_date',\n",
    "                           'gender',\n",
    "                           'loan'),\n",
    "                 'formats':('|S16',\n",
    "                            '|S32',\n",
    "                            '|S32',\n",
    "                            '|S8',\n",
    "                            '|S1',\n",
    "                            '|S32')}\n",
    "                 \n",
    "dataFromFile = np.loadtxt(data_path_in, dtype=dtypeFromFile, delimiter=',')"
   ]
  },
  {
   "cell_type": "code",
   "execution_count": 8,
   "metadata": {},
   "outputs": [
    {
     "name": "stdout",
     "output_type": "stream",
     "text": [
      "Chase Marshall\n"
     ]
    },
    {
     "data": {
      "text/plain": [
       "[10]"
      ]
     },
     "execution_count": 8,
     "metadata": {},
     "output_type": "execute_result"
    }
   ],
   "source": [
    "# For 2 Stage I use part of data from 1 Stage\n",
    "records = records_array(dataFromFile, SEED)   \n",
    "print(records.get_name(10))\n",
    "records.get_id('Chase Marshall')"
   ]
  },
  {
   "cell_type": "code",
   "execution_count": 9,
   "metadata": {},
   "outputs": [
    {
     "data": {
      "text/plain": [
       "array([    0,     1,     2, ..., 49997, 49998, 49999])"
      ]
     },
     "execution_count": 9,
     "metadata": {},
     "output_type": "execute_result"
    }
   ],
   "source": [
    "records.data['user_id']"
   ]
  },
  {
   "cell_type": "code",
   "execution_count": 10,
   "metadata": {},
   "outputs": [
    {
     "data": {
      "text/plain": [
       "array([0, 1, 0, ..., 1, 1, 0], dtype=int16)"
      ]
     },
     "execution_count": 10,
     "metadata": {},
     "output_type": "execute_result"
    }
   ],
   "source": [
    "records.data['gender']"
   ]
  },
  {
   "cell_type": "code",
   "execution_count": 11,
   "metadata": {},
   "outputs": [
    {
     "data": {
      "text/plain": [
       "array([[2020,    1,   31],\n",
       "       [2024,    1,   31],\n",
       "       [2022,   10,   31],\n",
       "       ...,\n",
       "       [2022,    1,   31],\n",
       "       [2024,    8,   31],\n",
       "       [2020,   12,   31]], dtype=int16)"
      ]
     },
     "execution_count": 11,
     "metadata": {},
     "output_type": "execute_result"
    }
   ],
   "source": [
    "records.data['expiration_date']"
   ]
  },
  {
   "cell_type": "code",
   "execution_count": 12,
   "metadata": {},
   "outputs": [
    {
     "data": {
      "text/plain": [
       "array([[11012.46315187, 82090.68555835, 10011.63517138, ...,\n",
       "        95105.03172516, 78088.81966525,  4004.73932993],\n",
       "       [11012.46315187, 34043.58706395, 22025.66319073, ...,\n",
       "        72079.35665887, 20024.86413886, 77081.51151132],\n",
       "       [36045.2068162 , 78088.81966525, 66071.09073205, ...,\n",
       "        33039.33720038, 44054.6510783 , 58067.18803837],\n",
       "       ...,\n",
       "       [72079.35665887, 16021.8401458 , 37045.278996  , ...,\n",
       "        87097.3725392 , 66071.09073205, 62070.16778499],\n",
       "       [ 4004.73932993,  3002.16314933, 25030.96066948, ...,\n",
       "        33039.33720038, 60069.47933044, 22025.66319073],\n",
       "       [52062.85447702,  3002.16314933, 23028.67359269, ...,\n",
       "        11012.46315187, 91101.28301904,  3002.16314933]])"
      ]
     },
     "execution_count": 12,
     "metadata": {},
     "output_type": "execute_result"
    }
   ],
   "source": [
    "records.data['loan'] "
   ]
  },
  {
   "cell_type": "markdown",
   "metadata": {},
   "source": [
    "## Validation"
   ]
  },
  {
   "cell_type": "code",
   "execution_count": 13,
   "metadata": {},
   "outputs": [],
   "source": [
    "unique, index, count = np.unique(dataFromFile, \n",
    "                          return_index=True,\n",
    "                          return_counts=True, axis=0)"
   ]
  },
  {
   "cell_type": "code",
   "execution_count": 14,
   "metadata": {},
   "outputs": [],
   "source": [
    "invalid_records = unique[count > 10]"
   ]
  },
  {
   "cell_type": "code",
   "execution_count": 15,
   "metadata": {},
   "outputs": [],
   "source": [
    "invalid_user_list = np.array([records.get_name(i) for i in index[count > 10]])"
   ]
  },
  {
   "cell_type": "code",
   "execution_count": 16,
   "metadata": {},
   "outputs": [],
   "source": [
    "invalid_index = index[count > 10]"
   ]
  },
  {
   "cell_type": "code",
   "execution_count": 17,
   "metadata": {},
   "outputs": [],
   "source": [
    "for idx in invalid_index:\n",
    "    records.remouve_row(idx)"
   ]
  },
  {
   "cell_type": "code",
   "execution_count": 18,
   "metadata": {},
   "outputs": [
    {
     "data": {
      "text/plain": [
       "array([(    0, 0, [2020,    1,   31], [11012.46315187, 82090.68555835, 10011.63517138, 40050.49315993, 26031.58598496, 43053.90488111, 72079.35665887, 95105.03172516, 78088.81966525,  4004.73932993]),\n",
       "       (    1, 1, [2024,    1,   31], [11012.46315187, 34043.58706395, 22025.66319073, 98108.38660983, 95105.03172516, 40050.49315993, 61069.75009672, 72079.35665887, 20024.86413886, 77081.51151132]),\n",
       "       (    2, 0, [2022,   10,   31], [36045.2068162 , 78088.81966525, 66071.09073205, 52062.85447702, 11012.46315187, 39048.68635454, 73080.27190419, 33039.33720038, 44054.6510783 , 58067.18803837]),\n",
       "       ...,\n",
       "       (49997, 1, [2022,    1,   31], [72079.35665887, 16021.8401458 , 37045.278996  , 19024.35803841, 25030.96066948, 27031.67720383, 84092.81619157, 87097.3725392 , 66071.09073205, 62070.16778499]),\n",
       "       (49998, 1, [2024,    8,   31], [ 4004.73932993,  3002.16314933, 25030.96066948, 29034.70849542, 10011.63517138, 13019.51374347, 49061.09364297, 33039.33720038, 60069.47933044, 22025.66319073]),\n",
       "       (49999, 0, [2020,   12,   31], [52062.85447702,  3002.16314933, 23028.67359269, 28034.23024801, 80090.42248919, 29034.70849542, 31038.31861618, 11012.46315187, 91101.28301904,  3002.16314933])],\n",
       "      dtype=[('user_id', '<i4'), ('gender', '<i2'), ('expiration_date', '<i2', (3,)), ('loan', '<f8', (10,))])"
      ]
     },
     "execution_count": 18,
     "metadata": {},
     "output_type": "execute_result"
    }
   ],
   "source": [
    "records.data"
   ]
  },
  {
   "cell_type": "code",
   "execution_count": 19,
   "metadata": {},
   "outputs": [
    {
     "data": {
      "text/plain": [
       "array([[11012.46315187, 82090.68555835, 10011.63517138, ...,\n",
       "        95105.03172516, 78088.81966525,  4004.73932993],\n",
       "       [11012.46315187, 34043.58706395, 22025.66319073, ...,\n",
       "        72079.35665887, 20024.86413886, 77081.51151132],\n",
       "       [36045.2068162 , 78088.81966525, 66071.09073205, ...,\n",
       "        33039.33720038, 44054.6510783 , 58067.18803837],\n",
       "       ...,\n",
       "       [72079.35665887, 16021.8401458 , 37045.278996  , ...,\n",
       "        87097.3725392 , 66071.09073205, 62070.16778499],\n",
       "       [ 4004.73932993,  3002.16314933, 25030.96066948, ...,\n",
       "        33039.33720038, 60069.47933044, 22025.66319073],\n",
       "       [52062.85447702,  3002.16314933, 23028.67359269, ...,\n",
       "        11012.46315187, 91101.28301904,  3002.16314933]])"
      ]
     },
     "execution_count": 19,
     "metadata": {},
     "output_type": "execute_result"
    }
   ],
   "source": [
    "records.data['loan']"
   ]
  },
  {
   "cell_type": "code",
   "execution_count": 20,
   "metadata": {},
   "outputs": [
    {
     "data": {
      "text/plain": [
       "<data_transformation.records_array at 0x1db1fe36198>"
      ]
     },
     "execution_count": 20,
     "metadata": {},
     "output_type": "execute_result"
    }
   ],
   "source": [
    "loans_dict = get_loans(records)\n",
    "rewrite_loans(records, loans_dict)"
   ]
  },
  {
   "cell_type": "code",
   "execution_count": 21,
   "metadata": {},
   "outputs": [
    {
     "data": {
      "text/plain": [
       "array([(    0, 0, [2020,    1,   31], [63952387.41950694, 63530966.81564663, 64087671.91437761, 62852370.94051827, 63598006.8018615 , 65183891.6602595 , 65134595.54847924, 64085558.45355438, 66644302.56356726, 63158565.21689467]),\n",
       "       (    1, 1, [2024,    1,   31], [84336957.94451419, 86650529.487753  , 86301039.82316232, 87278087.23212501, 86017669.98593122, 84769407.23364604, 85168954.60078454, 86686516.12448783, 84988751.22737978, 86001767.48059218]),\n",
       "       (    2, 0, [2022,   10,   31], [88975261.65505362, 88777809.30961761, 89550930.77588935, 89949349.4392019 , 89926143.86001046, 88390692.69617292, 89217317.681822  , 89558906.1436581 , 91271778.56597061, 87583513.85354848]),\n",
       "       ...,\n",
       "       (49997, 1, [2022,    1,   31], [ 7866978.29378902,  8372569.14531297,  7577748.08396999,  8299514.98587508,  8486747.78108062,  8252492.77452137,  8156435.31249073,  8554741.29066491,  7843979.90211925,  7472588.10420491]),\n",
       "       (49998, 1, [2024,    8,   31], [14878080.37325052, 16273600.82741957, 14992261.89241285, 15794154.07457364, 14910233.08075136, 15465695.36126863, 15940232.9681915 , 15012289.23631852, 14963246.10972482, 14547761.65849614]),\n",
       "       (49999, 0, [2020,   12,   31], [38449359.47713596, 40113924.55871173, 38108930.59406469, 39772512.81846529, 39434229.99458152, 38783620.85759241, 40864888.12239434, 40253076.61629539, 39381138.2031402 , 39010894.60655586])],\n",
       "      dtype=[('user_id', '<i4'), ('gender', '<i2'), ('expiration_date', '<i2', (3,)), ('loan', '<f8', (10,))])"
      ]
     },
     "execution_count": 21,
     "metadata": {},
     "output_type": "execute_result"
    }
   ],
   "source": [
    "records.data"
   ]
  },
  {
   "cell_type": "code",
   "execution_count": 22,
   "metadata": {},
   "outputs": [],
   "source": [
    "np.savetxt(data_path_out, records.data, delimiter=',',fmt=('%16s', '%16s', '%32s', '%32s'),\n",
    "           header='user_id gender expiration_date loan')"
   ]
  },
  {
   "cell_type": "markdown",
   "metadata": {},
   "source": [
    "## Simulation and Analysis"
   ]
  },
  {
   "cell_type": "code",
   "execution_count": 23,
   "metadata": {},
   "outputs": [],
   "source": [
    "from data_calculation import *"
   ]
  },
  {
   "cell_type": "code",
   "execution_count": 29,
   "metadata": {},
   "outputs": [],
   "source": [
    "'''\n",
    "def get_all_matrix(records):\n",
    "    return np.array([get_loans_matrix(records, idx) for idx in records.data['user_id']])    \n",
    "get_all_matrix(records)\n",
    "'''\n",
    "# This task is unclear for me ! =( \n",
    "# But still some functions in data_calculation is usful\n",
    "# get_projection_number(expiration_date) -> projection_number\n",
    "# get_monthly_payment(records, idx, prog) \n",
    "# payment(prev, gender, payment_rate)\n",
    "# loan(curent_sum, prev, gender, payment_rate)\n",
    "\n",
    "# The result should be an array of loans with the size number of programs x number of scenarios (10 x 100).\n",
    "# These results should be saved to LoanData_YYYYMM_SEED_YYYYMMDDHHMMSS.npy\n",
    "# loans with the size number of programs x number of scenarios (10 x 100). -->  ?\n",
    "# --> loans of one record ? \n",
    "# or I shuld do it for all users ???\n",
    "# But I can show on one example\n",
    "variance = 0.01\n",
    "data = get_loans_matrix(records, 10,variance)"
   ]
  },
  {
   "cell_type": "code",
   "execution_count": 30,
   "metadata": {},
   "outputs": [],
   "source": [
    "data_path_out = 'LoanData_' + id_file + '.csv'\n",
    "np.savetxt(data_path_out, data, delimiter=',')"
   ]
  },
  {
   "cell_type": "markdown",
   "metadata": {},
   "source": [
    "## Analysis"
   ]
  },
  {
   "cell_type": "code",
   "execution_count": 31,
   "metadata": {},
   "outputs": [
    {
     "data": {
      "text/plain": [
       "(array([1., 2., 1., 1., 1., 0., 0., 2., 1., 0., 0., 0., 1., 1., 1., 2., 0.,\n",
       "        1., 2., 3., 0., 0., 4., 3., 0., 5., 0., 4., 3., 2., 3., 3., 2., 1.,\n",
       "        4., 0., 4., 3., 4., 0., 2., 3., 0., 0., 1., 3., 1., 3., 0., 0., 2.,\n",
       "        0., 2., 0., 1., 2., 0., 3., 0., 1., 0., 1., 1., 1., 0., 1., 0., 1.,\n",
       "        0., 0., 0., 0., 0., 1., 0., 1., 0., 0., 0., 0., 0., 0., 0., 1., 0.,\n",
       "        0., 0., 0., 0., 0., 0., 0., 0., 0., 0., 0., 1., 1., 0., 1.]),\n",
       " array([1.10527538e+23, 1.12967079e+23, 1.15406619e+23, 1.17846160e+23,\n",
       "        1.20285701e+23, 1.22725242e+23, 1.25164783e+23, 1.27604324e+23,\n",
       "        1.30043864e+23, 1.32483405e+23, 1.34922946e+23, 1.37362487e+23,\n",
       "        1.39802028e+23, 1.42241568e+23, 1.44681109e+23, 1.47120650e+23,\n",
       "        1.49560191e+23, 1.51999732e+23, 1.54439273e+23, 1.56878813e+23,\n",
       "        1.59318354e+23, 1.61757895e+23, 1.64197436e+23, 1.66636977e+23,\n",
       "        1.69076518e+23, 1.71516058e+23, 1.73955599e+23, 1.76395140e+23,\n",
       "        1.78834681e+23, 1.81274222e+23, 1.83713763e+23, 1.86153303e+23,\n",
       "        1.88592844e+23, 1.91032385e+23, 1.93471926e+23, 1.95911467e+23,\n",
       "        1.98351008e+23, 2.00790548e+23, 2.03230089e+23, 2.05669630e+23,\n",
       "        2.08109171e+23, 2.10548712e+23, 2.12988253e+23, 2.15427793e+23,\n",
       "        2.17867334e+23, 2.20306875e+23, 2.22746416e+23, 2.25185957e+23,\n",
       "        2.27625498e+23, 2.30065038e+23, 2.32504579e+23, 2.34944120e+23,\n",
       "        2.37383661e+23, 2.39823202e+23, 2.42262743e+23, 2.44702283e+23,\n",
       "        2.47141824e+23, 2.49581365e+23, 2.52020906e+23, 2.54460447e+23,\n",
       "        2.56899988e+23, 2.59339528e+23, 2.61779069e+23, 2.64218610e+23,\n",
       "        2.66658151e+23, 2.69097692e+23, 2.71537232e+23, 2.73976773e+23,\n",
       "        2.76416314e+23, 2.78855855e+23, 2.81295396e+23, 2.83734937e+23,\n",
       "        2.86174477e+23, 2.88614018e+23, 2.91053559e+23, 2.93493100e+23,\n",
       "        2.95932641e+23, 2.98372182e+23, 3.00811722e+23, 3.03251263e+23,\n",
       "        3.05690804e+23, 3.08130345e+23, 3.10569886e+23, 3.13009427e+23,\n",
       "        3.15448967e+23, 3.17888508e+23, 3.20328049e+23, 3.22767590e+23,\n",
       "        3.25207131e+23, 3.27646672e+23, 3.30086212e+23, 3.32525753e+23,\n",
       "        3.34965294e+23, 3.37404835e+23, 3.39844376e+23, 3.42283917e+23,\n",
       "        3.44723457e+23, 3.47162998e+23, 3.49602539e+23, 3.52042080e+23,\n",
       "        3.54481621e+23]),\n",
       " <a list of 100 Patch objects>)"
      ]
     },
     "execution_count": 31,
     "metadata": {},
     "output_type": "execute_result"
    },
    {
     "data": {
      "image/png": "[encoded data removed]",
      "text/plain": [
       "<Figure size 432x288 with 1 Axes>"
      ]
     },
     "metadata": {
      "needs_background": "light"
     },
     "output_type": "display_data"
    }
   ],
   "source": [
    "prog = 9\n",
    "plt.hist(data[prog], bins=len(data[prog]))"
   ]
  },
  {
   "cell_type": "code",
   "execution_count": 32,
   "metadata": {},
   "outputs": [
    {
     "data": {
      "text/plain": [
       "(array([1., 3., 1., 1., 0., 2., 1., 0., 0., 2., 4., 3., 1., 4., 3., 0., 5.,\n",
       "        5., 3., 2., 7., 3., 9., 6., 2., 5., 6., 8., 4., 4., 7., 4., 1., 8.,\n",
       "        5., 5., 5., 5., 7., 8., 2., 5., 7., 8., 6., 3., 2., 9., 6., 2., 3.,\n",
       "        6., 3., 6., 3., 4., 4., 5., 8., 3., 4., 5., 2., 6., 5., 6., 5., 1.,\n",
       "        3., 4., 7., 3., 5., 0., 3., 6., 3., 3., 2., 3., 4., 3., 4., 4., 2.,\n",
       "        6., 2., 0., 6., 4., 2., 5., 6., 3., 3., 4., 0., 4., 5., 4., 4., 1.,\n",
       "        0., 1., 4., 6., 2., 2., 5., 4., 1., 1., 2., 2., 2., 2., 4., 2., 2.,\n",
       "        1., 3., 4., 4., 3., 2., 2., 3., 5., 1., 4., 0., 2., 3., 2., 4., 4.,\n",
       "        1., 2., 1., 0., 2., 1., 3., 2., 2., 2., 5., 2., 0., 0., 1., 0., 5.,\n",
       "        2., 0., 0., 4., 0., 4., 2., 1., 3., 2., 2., 2., 2., 4., 2., 2., 2.,\n",
       "        1., 1., 1., 2., 2., 3., 3., 1., 1., 3., 3., 3., 2., 3., 1., 2., 3.,\n",
       "        1., 0., 2., 2., 1., 3., 3., 1., 0., 2., 0., 1., 0., 5., 2., 0., 4.,\n",
       "        0., 2., 1., 1., 2., 4., 1., 1., 0., 1., 2., 1., 1., 2., 2., 2., 2.,\n",
       "        3., 3., 0., 1., 0., 1., 1., 3., 2., 1., 2., 1., 0., 2., 4., 2., 1.,\n",
       "        1., 0., 2., 4., 0., 5., 0., 1., 2., 0., 2., 4., 2., 1., 2., 1., 0.,\n",
       "        1., 0., 0., 1., 0., 0., 3., 1., 1., 0., 4., 2., 1., 1., 0., 0., 0.,\n",
       "        3., 0., 0., 1., 3., 2., 0., 0., 1., 2., 1., 2., 1., 0., 1., 5., 1.,\n",
       "        1., 0., 1., 0., 1., 2., 1., 2., 0., 3., 1., 3., 2., 1., 1., 2., 1.,\n",
       "        2., 1., 1., 0., 1., 0., 1., 3., 2., 1., 1., 3., 0., 0., 1., 0., 2.,\n",
       "        1., 2., 1., 0., 1., 0., 2., 2., 2., 1., 2., 2., 1., 2., 2., 2., 0.,\n",
       "        0., 2., 1., 0., 2., 1., 0., 3., 0., 1., 3., 0., 0., 0., 0., 0., 2.,\n",
       "        2., 0., 0., 1., 1., 3., 3., 0., 0., 1., 1., 0., 1., 0., 1., 4., 0.,\n",
       "        0., 0., 1., 1., 1., 2., 0., 1., 0., 1., 1., 2., 1., 0., 2., 0., 0.,\n",
       "        0., 0., 0., 3., 1., 1., 1., 1., 1., 1., 1., 0., 0., 0., 1., 2., 0.,\n",
       "        2., 1., 0., 1., 0., 2., 0., 2., 3., 1., 1., 2., 0., 1., 0., 1., 0.,\n",
       "        1., 1., 1., 1., 1., 0., 0., 1., 2., 2., 0., 1., 0., 1., 0., 0., 1.,\n",
       "        0., 1., 0., 1., 1., 1., 1., 1., 0., 1., 1., 1., 2., 2., 0., 0., 0.,\n",
       "        0., 2., 0., 0., 0., 0., 0., 1., 2., 2., 1., 0., 2., 0., 0., 0., 0.,\n",
       "        0., 0., 0., 0., 2., 0., 1., 0., 2., 1., 1., 2., 0., 0., 0., 0., 0.,\n",
       "        2., 2., 0., 1., 0., 0., 0., 1., 1., 0., 1., 0., 1., 0., 1., 1., 1.,\n",
       "        1., 1., 0., 1., 0., 1., 0., 1., 0., 0., 1., 0., 1., 1., 0., 0., 1.,\n",
       "        0., 0., 1., 1., 0., 1., 1., 0., 1., 1., 0., 0., 0., 0., 1., 0., 0.,\n",
       "        1., 0., 1., 0., 1., 2., 0., 0., 2., 0., 0., 2., 0., 0., 1., 0., 0.,\n",
       "        0., 3., 1., 0., 0., 0., 0., 0., 0., 0., 0., 0., 0., 1., 2., 0., 0.,\n",
       "        0., 0., 1., 0., 1., 0., 0., 1., 1., 0., 1., 0., 0., 0., 0., 0., 0.,\n",
       "        0., 0., 0., 0., 0., 1., 1., 0., 0., 0., 1., 0., 0., 0., 1., 0., 2.,\n",
       "        0., 0., 0., 0., 0., 2., 0., 0., 0., 0., 0., 0., 0., 1., 2., 0., 0.,\n",
       "        0., 0., 0., 0., 0., 0., 0., 0., 0., 0., 0., 0., 0., 0., 0., 0., 1.,\n",
       "        0., 0., 1., 0., 0., 0., 0., 0., 0., 0., 0., 0., 1., 0., 0., 2., 0.,\n",
       "        0., 0., 0., 0., 0., 0., 0., 0., 0., 0., 0., 1., 0., 0., 0., 0., 0.,\n",
       "        0., 1., 0., 0., 1., 0., 0., 0., 0., 0., 0., 0., 0., 0., 0., 0., 1.,\n",
       "        0., 0., 1., 1., 0., 0., 0., 0., 0., 0., 0., 0., 0., 0., 0., 0., 0.,\n",
       "        1., 0., 0., 0., 0., 0., 0., 0., 0., 0., 1., 0., 0., 0., 0., 0., 0.,\n",
       "        0., 0., 1., 1., 1., 0., 0., 0., 1., 0., 0., 0., 0., 0., 0., 0., 0.,\n",
       "        0., 1., 0., 0., 1., 0., 0., 0., 0., 0., 0., 0., 0., 0., 0., 0., 0.,\n",
       "        0., 0., 0., 0., 1., 0., 0., 0., 0., 0., 0., 0., 0., 0., 0., 0., 0.,\n",
       "        0., 0., 0., 0., 0., 0., 0., 0., 0., 0., 0., 0., 0., 0., 0., 0., 0.,\n",
       "        0., 0., 0., 0., 0., 0., 0., 0., 0., 0., 1., 0., 0., 0., 0., 0., 0.,\n",
       "        0., 0., 0., 0., 0., 0., 0., 0., 0., 1., 0., 0., 0., 0., 0., 0., 0.,\n",
       "        0., 0., 0., 0., 0., 0., 0., 0., 0., 0., 0., 0., 0., 0., 0., 0., 0.,\n",
       "        0., 0., 0., 0., 0., 0., 0., 0., 0., 0., 0., 0., 0., 0., 0., 0., 0.,\n",
       "        0., 0., 0., 0., 0., 0., 0., 0., 0., 0., 0., 0., 1., 0., 0., 0., 0.,\n",
       "        0., 0., 0., 0., 0., 0., 0., 0., 0., 0., 0., 0., 0., 0., 0., 0., 0.,\n",
       "        0., 0., 0., 0., 0., 0., 0., 0., 0., 0., 0., 0., 0., 0., 0., 0., 0.,\n",
       "        0., 0., 0., 0., 0., 0., 0., 0., 0., 0., 0., 0., 0., 0., 0., 0., 0.,\n",
       "        0., 0., 0., 0., 0., 0., 0., 0., 0., 0., 0., 0., 0., 0., 0., 0., 0.,\n",
       "        0., 0., 0., 0., 0., 0., 0., 0., 0., 0., 0., 0., 0., 0., 0., 0., 0.,\n",
       "        0., 0., 0., 0., 0., 0., 0., 0., 0., 1., 0., 1., 0., 0., 0., 0., 0.,\n",
       "        0., 0., 0., 0., 0., 0., 0., 0., 0., 0., 0., 0., 0., 1.]),\n",
       " array([1.21311106e+22, 1.24734611e+22, 1.28158116e+22, ...,\n",
       "        3.53796920e+23, 3.54139270e+23, 3.54481621e+23]),\n",
       " <a list of 1000 Patch objects>)"
      ]
     },
     "execution_count": 32,
     "metadata": {},
     "output_type": "execute_result"
    },
    {
     "data": {
      "image/png": "[encoded data removed]",
      "text/plain": [
       "<Figure size 432x288 with 1 Axes>"
      ]
     },
     "metadata": {
      "needs_background": "light"
     },
     "output_type": "display_data"
    }
   ],
   "source": [
    "total_data = []\n",
    "for i in data:\n",
    "    total_data += list(i)\n",
    "total_data = np.array(total_data)\n",
    "plt.hist(total_data, bins=len(total_data))"
   ]
  },
  {
   "cell_type": "code",
   "execution_count": 28,
   "metadata": {},
   "outputs": [],
   "source": []
  },
  {
   "cell_type": "code",
   "execution_count": null,
   "metadata": {},
   "outputs": [],
   "source": []
  },
  {
   "cell_type": "code",
   "execution_count": null,
   "metadata": {},
   "outputs": [],
   "source": []
  }
 ],
 "metadata": {
  "kernelspec": {
   "display_name": "Python 3",
   "language": "python",
   "name": "python3"
  },
  "language_info": {
   "codemirror_mode": {
    "name": "ipython",
    "version": 3
   },
   "file_extension": ".py",
   "mimetype": "text/x-python",
   "name": "python",
   "nbconvert_exporter": "python",
   "pygments_lexer": "ipython3",
   "version": "3.6.7"
  }
 },
 "nbformat": 4,
 "nbformat_minor": 2
}
